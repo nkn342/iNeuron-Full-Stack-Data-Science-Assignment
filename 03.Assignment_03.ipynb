{
 "cells": [
  {
   "cell_type": "markdown",
   "id": "0025e0ff",
   "metadata": {},
   "source": [
    "# Assignment 3 Solutions"
   ]
  },
  {
   "cell_type": "markdown",
   "id": "3463e568",
   "metadata": {},
   "source": [
    "#### 1. Why are functions advantageous to have in your programs?"
   ]
  },
  {
   "cell_type": "markdown",
   "id": "a6c5f780",
   "metadata": {},
   "source": [
    "**Ans**: Functions reduce the need for duplicate code. This makes programs shorter, easier to read, and easier to update. The main advantage of functions is code Reusability."
   ]
  },
  {
   "cell_type": "markdown",
   "id": "9fac850c",
   "metadata": {},
   "source": [
    "#### 2. When does the code in a function run: when it's specified or when it's called?"
   ]
  },
  {
   "cell_type": "markdown",
   "id": "d90cea9d",
   "metadata": {},
   "source": [
    "**Ans**: The code in a function executes when the function is called, not when the function is specified."
   ]
  },
  {
   "cell_type": "markdown",
   "id": "cac2533d",
   "metadata": {},
   "source": [
    "#### 3. What statement creates a function?"
   ]
  },
  {
   "cell_type": "markdown",
   "id": "ab0f8bc5",
   "metadata": {},
   "source": [
    "**Ans**: The def statement defines a function  \n",
    "**Syntax of Function:**  \n",
    "`def function_name(parameters): \"\"\"doc string\"\"\" -----function body----- -----function body----- return value`"
   ]
  },
  {
   "cell_type": "markdown",
   "id": "262c1669",
   "metadata": {},
   "source": [
    "#### 4. What is the difference between a function and a function call?\n"
   ]
  },
  {
   "cell_type": "markdown",
   "id": "9bf77000",
   "metadata": {},
   "source": [
    "**Ans**: A function is procedure to achieve a particular result. while function call is using this function to achive that task. Using a function to do a particular task any point in program is called as function call."
   ]
  },
  {
   "cell_type": "markdown",
   "id": "c4138cd6",
   "metadata": {},
   "source": [
    "#### 5. How many global scopes are there in a Python program? How many local scopes?"
   ]
  },
  {
   "cell_type": "markdown",
   "id": "5b96299d",
   "metadata": {},
   "source": [
    "**Ans**: There is one global scope, and a local scope is created whenever a function is called."
   ]
  },
  {
   "cell_type": "markdown",
   "id": "f92e9371",
   "metadata": {},
   "source": [
    "#### 6. What happens to variables in a local scope when the function call returns?"
   ]
  },
  {
   "cell_type": "markdown",
   "id": "a17aa432",
   "metadata": {},
   "source": [
    "**Ans**: When a function returns, the local scope is destroyed, and all the variables in it are forgotten."
   ]
  },
  {
   "cell_type": "markdown",
   "id": "22bb563c",
   "metadata": {},
   "source": [
    "#### 7. What is the concept of a return value? Is it possible to have a return value in an expression?"
   ]
  },
  {
   "cell_type": "markdown",
   "id": "97525e35",
   "metadata": {},
   "source": [
    "**Ans**: A return value is the value that a function call evaluates to. Like any value, a return value can be used as part of an expression."
   ]
  },
  {
   "cell_type": "markdown",
   "id": "6233c224",
   "metadata": {},
   "source": [
    "#### 8. If a function does not have a return statement, what is the return value of a call to that function?"
   ]
  },
  {
   "cell_type": "markdown",
   "id": "60a8ddc1",
   "metadata": {},
   "source": [
    "**Ans**: If there is no return statement for a function, its return value is None."
   ]
  },
  {
   "cell_type": "markdown",
   "id": "06a4f29b",
   "metadata": {},
   "source": [
    "#### 9. How do you make a function variable refer to the global variable?"
   ]
  },
  {
   "cell_type": "markdown",
   "id": "1d1a59f3",
   "metadata": {},
   "source": [
    "**Ans**: A global statement will force a variable in a function to refer to the global variable. If you want to refer to a global variable in a function, you can use the global keyword to declare which variables are global."
   ]
  },
  {
   "cell_type": "markdown",
   "id": "9f43f2ba",
   "metadata": {},
   "source": [
    "#### 10. What is the data type of None?"
   ]
  },
  {
   "cell_type": "markdown",
   "id": "ba2e10a0",
   "metadata": {},
   "source": [
    "**Ans**: The data type of None is NoneType."
   ]
  },
  {
   "cell_type": "markdown",
   "id": "d20932ec",
   "metadata": {},
   "source": [
    "#### 11. What does the sentence import areallyourpetsnamederic do?"
   ]
  },
  {
   "cell_type": "markdown",
   "id": "3c3d3fd0",
   "metadata": {},
   "source": [
    "**Ans**: This sentence imports the module named \"areallyourpetsnamederic\".\n"
   ]
  },
  {
   "cell_type": "markdown",
   "id": "d0602241",
   "metadata": {},
   "source": [
    "#### 12. If you had a bacon() feature in a spam module, what would you call it after importing spam?"
   ]
  },
  {
   "cell_type": "markdown",
   "id": "a9710ae8",
   "metadata": {},
   "source": [
    "**Ans**: This function can be called with spam.bacon()."
   ]
  },
  {
   "cell_type": "markdown",
   "id": "474cdd14",
   "metadata": {},
   "source": [
    "#### 13. What can you do to save a programme from crashing if it encounters an error?"
   ]
  },
  {
   "cell_type": "markdown",
   "id": "a9e302e5",
   "metadata": {},
   "source": [
    "**Ans**: Place the line of code that might cause an error in a try clause and use except block to handle the error."
   ]
  },
  {
   "cell_type": "markdown",
   "id": "201f0a93",
   "metadata": {},
   "source": [
    "#### 14. What is the purpose of the try clause? What is the purpose of the except clause?"
   ]
  },
  {
   "cell_type": "markdown",
   "id": "2b5250cd",
   "metadata": {},
   "source": [
    "**Ans**: The code that could potentially cause an error goes in the try clause. The code that executes if an error happens goes in the except clause."
   ]
  },
  {
   "cell_type": "code",
   "execution_count": null,
   "id": "34bdc0de",
   "metadata": {},
   "outputs": [],
   "source": []
  }
 ],
 "metadata": {
  "kernelspec": {
   "display_name": "Python 3 (ipykernel)",
   "language": "python",
   "name": "python3"
  },
  "language_info": {
   "codemirror_mode": {
    "name": "ipython",
    "version": 3
   },
   "file_extension": ".py",
   "mimetype": "text/x-python",
   "name": "python",
   "nbconvert_exporter": "python",
   "pygments_lexer": "ipython3",
   "version": "3.9.12"
  }
 },
 "nbformat": 4,
 "nbformat_minor": 5
}
