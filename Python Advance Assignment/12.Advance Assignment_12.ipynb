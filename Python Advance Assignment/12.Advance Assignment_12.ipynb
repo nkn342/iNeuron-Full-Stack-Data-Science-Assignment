{
 "cells": [
  {
   "cell_type": "markdown",
   "id": "f8881b01",
   "metadata": {},
   "source": [
    "# Assignment 12 Solutions"
   ]
  },
  {
   "cell_type": "markdown",
   "id": "cb9dd494",
   "metadata": {},
   "source": [
    "#### Q1. Does assigning a value to a string's indexed character violate Python's string immutability ?"
   ]
  },
  {
   "cell_type": "markdown",
   "id": "5ed71d61",
   "metadata": {},
   "source": [
    "**Ans**: String’s indexed character cannot to be assigned a New value , as Strings are **immutable.**   \n",
    "**Example:**  \n",
    "`name = \"Reinforcement\"`  \n",
    "`print(id(name)) #73472`   \n",
    "`name[0] = \"V\" # Raises TypeError`"
   ]
  },
  {
   "cell_type": "markdown",
   "id": "2e1aba65",
   "metadata": {},
   "source": [
    "#### Q2. Does using the += operator to concatenate strings violate Python's string immutability? Why or why not ?"
   ]
  },
  {
   "cell_type": "markdown",
   "id": "954b29f5",
   "metadata": {},
   "source": [
    "**Ans**: `+=` operator is used to concatenate strings, it does not violate Python’s string immutability Property. Because doing so new creates a new association with data and variable. E.g. `str_1=\"a\"` and `str_1+=\"b\"`. effect of this statements to create string `ab` and reassign it to variable `str_1`, any string data is not actually modified."
   ]
  },
  {
   "cell_type": "code",
   "execution_count": 1,
   "id": "5c24ec4b",
   "metadata": {},
   "outputs": [
    {
     "name": "stdout",
     "output_type": "stream",
     "text": [
      "2090680891888\n",
      "2090761260400\n"
     ]
    }
   ],
   "source": [
    "str_1 = 'a'\n",
    "print(id(str_1))\n",
    "str_1 += 'b'\n",
    "print(id(str_1)) # Does not Modify existing string, Creates a New String Object\n"
   ]
  },
  {
   "cell_type": "markdown",
   "id": "cacf9f73",
   "metadata": {},
   "source": [
    "#### Q3. In Python, how many different ways are there to index a character?"
   ]
  },
  {
   "cell_type": "markdown",
   "id": "65d35256",
   "metadata": {},
   "source": [
    "**Ans**: A Character in string can be indexed using string name followed by index number of character in square bracket.**` Positive Indexing`** i.e. first index is 0 and so on, or **`Negative Indexing`** i.e. last letter is `-1` and so on can be used to index a character."
   ]
  },
  {
   "cell_type": "code",
   "execution_count": 3,
   "id": "852c3b20",
   "metadata": {},
   "outputs": [
    {
     "name": "stdout",
     "output_type": "stream",
     "text": [
      "u l e\n",
      "e i c\n"
     ]
    }
   ],
   "source": [
    "in_string = \"iNeuron Full Stack Data Science\"\n",
    "print(in_string[9],in_string[10],in_string[2]) # Positive Indexing\n",
    "print(in_string[-1],in_string[-5],in_string[-2]) # Negative Indexing\n"
   ]
  },
  {
   "cell_type": "markdown",
   "id": "9d26de19",
   "metadata": {},
   "source": [
    "#### Q4. What is the relationship between indexing and slicing?"
   ]
  },
  {
   "cell_type": "markdown",
   "id": "c443992f",
   "metadata": {},
   "source": [
    "**Ans**: We can access elements of sequence datatypes by using slicing and indexing. Indexing is used to obtaining individual element while slicing for sequence of elements."
   ]
  },
  {
   "cell_type": "code",
   "execution_count": 4,
   "id": "b9e217a8",
   "metadata": {},
   "outputs": [
    {
     "name": "stdout",
     "output_type": "stream",
     "text": [
      "N u o\n",
      "Neuron Full St\n"
     ]
    }
   ],
   "source": [
    "in_string = \"iNeuron Full Stack Data Science\"\n",
    "print(in_string[1],in_string[3],in_string[5]) # Indexing\n",
    "print(in_string[1:15]) # Slicing"
   ]
  },
  {
   "cell_type": "markdown",
   "id": "0883daef",
   "metadata": {},
   "source": [
    "#### Q5. What is an indexed character's exact data type? What is the data form of a slicing-generated substring?"
   ]
  },
  {
   "cell_type": "markdown",
   "id": "cd4f9e2c",
   "metadata": {},
   "source": [
    "**Ans:** Indexed characters and sliced substrings have datatype **`String`**."
   ]
  },
  {
   "cell_type": "code",
   "execution_count": 6,
   "id": "c5334f24",
   "metadata": {},
   "outputs": [
    {
     "name": "stdout",
     "output_type": "stream",
     "text": [
      "<class 'str'>\n",
      "<class 'str'>\n"
     ]
    }
   ],
   "source": [
    "in_string = \"iNeuron Full Stack Data Science\"\n",
    "print(type(in_string[3])) # Indexing -> str\n",
    "print(type(in_string[1:10])) # Indexing -> str"
   ]
  },
  {
   "cell_type": "markdown",
   "id": "b41e25b7",
   "metadata": {},
   "source": [
    "#### Q6. What is the relationship between string and character \"types\" in Python?"
   ]
  },
  {
   "cell_type": "markdown",
   "id": "fe8e7c3e",
   "metadata": {},
   "source": [
    "**Ans**: Object that contains sequence of character datatypes are called String."
   ]
  },
  {
   "cell_type": "markdown",
   "id": "8c6d6164",
   "metadata": {},
   "source": [
    "#### Q7. Identify at least two operators & one method that allow you to combine one or more smaller strings to create a larger string ?"
   ]
  },
  {
   "cell_type": "markdown",
   "id": "f507b3f0",
   "metadata": {},
   "source": [
    "**Ans:** `+`, `+=` and `*` allow to combine one or more smaller strings to create a larger string. `<string>.join(<sep>)` method joins element of iterable type like list and tuple to get a combined string."
   ]
  },
  {
   "cell_type": "code",
   "execution_count": 7,
   "id": "6b429844",
   "metadata": {},
   "outputs": [
    {
     "name": "stdout",
     "output_type": "stream",
     "text": [
      "iNeuron Full Stack Data Science FSDS\n",
      "FSDS FSDS FSDS \n",
      "I N E U R O N\n",
      "i n e u r o n\n"
     ]
    }
   ],
   "source": [
    "in_string = 'iNeuron '\n",
    "in_string += 'Full Stack Data Science'\n",
    "print(in_string + ' FSDS')\n",
    "print('FSDS '*3)\n",
    "print(\" \".join(['I','N','E','U','R','O','N'])) # List Iterable\n",
    "print(\" \".join(('I','N','E','U','R','O','N')).lower()) # Tuple Iterable\n"
   ]
  },
  {
   "cell_type": "markdown",
   "id": "9e00ac86",
   "metadata": {},
   "source": [
    "#### Q8. What is the benefit of first checking the target string with in or not in before using the index method to find a substring ?"
   ]
  },
  {
   "cell_type": "markdown",
   "id": "7051f015",
   "metadata": {},
   "source": [
    "**Ans**: Checking the target string with `in` or `not` Operators before using the index method to find a substring just helps confirming availability of substring and thus avoid raising of **ValueError.**  \n",
    "**Example:**  \n",
    "`in_string = \"ineuron\"`  \n",
    "`in_string.index('x') # Raises ValueError`  \n",
    "`in_string.index('u') # 3`"
   ]
  },
  {
   "cell_type": "markdown",
   "id": "5132c8d9",
   "metadata": {},
   "source": [
    "#### Q9. Which operators and built-in string methods produce simple Boolean (true/false) results?"
   ]
  },
  {
   "cell_type": "markdown",
   "id": "ffee585b",
   "metadata": {},
   "source": [
    "**Ans**: The String Operators and built-in methods to Produce Simple Boolean (True/False) Results are:\n",
    "\n",
    "* `in`   \n",
    "* `not`   \n",
    "* `<string>.isalpha()`  \n",
    "* `<string>.isalnum()`  \n",
    "* `<string>.isdecimal()`  \n",
    "* `<string>.isdigit()`  \n",
    "* `<string>.islower()`  \n",
    "* `<string>.isnumeric()`  \n",
    "* `<string>.isprintable()`  \n",
    "* `<string>.isspace()`  \n",
    "* `<string>.istitle()`  "
   ]
  },
  {
   "cell_type": "code",
   "execution_count": null,
   "id": "c6f0e6f7",
   "metadata": {},
   "outputs": [],
   "source": []
  }
 ],
 "metadata": {
  "kernelspec": {
   "display_name": "Python 3 (ipykernel)",
   "language": "python",
   "name": "python3"
  },
  "language_info": {
   "codemirror_mode": {
    "name": "ipython",
    "version": 3
   },
   "file_extension": ".py",
   "mimetype": "text/x-python",
   "name": "python",
   "nbconvert_exporter": "python",
   "pygments_lexer": "ipython3",
   "version": "3.9.12"
  }
 },
 "nbformat": 4,
 "nbformat_minor": 5
}
