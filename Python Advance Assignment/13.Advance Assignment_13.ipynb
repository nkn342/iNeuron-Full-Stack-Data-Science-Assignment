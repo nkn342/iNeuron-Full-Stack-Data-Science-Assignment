{
 "cells": [
  {
   "cell_type": "markdown",
   "id": "96dec507",
   "metadata": {},
   "source": [
    "# Assignment 13 Solutions"
   ]
  },
  {
   "cell_type": "markdown",
   "id": "7b18afb5",
   "metadata": {},
   "source": [
    "#### Q1. Can you create a programme or function that employs both positive and negative indexing? Is there any repercussion if you do so?"
   ]
  },
  {
   "cell_type": "code",
   "execution_count": 1,
   "id": "e6c3e276",
   "metadata": {},
   "outputs": [
    {
     "name": "stdout",
     "output_type": "stream",
     "text": [
      "Positive Indexing -> 6\n",
      "Negative Indexing -> 10\n"
     ]
    }
   ],
   "source": [
    "my_list = [1,2,3,4,5,6,6,7,8,9,10]\n",
    "def bi_index(in_list,position):\n",
    "    return in_list[position]\n",
    "print('Positive Indexing ->',bi_index(my_list,5))\n",
    "print('Negative Indexing ->',bi_index(my_list,-1))"
   ]
  },
  {
   "cell_type": "markdown",
   "id": "9b828a82",
   "metadata": {},
   "source": [
    "#### Q2. What is the most effective way of starting with 1,000 elements in a Python list? Assume that all elements should be set to the same value."
   ]
  },
  {
   "cell_type": "code",
   "execution_count": 2,
   "id": "d2d4acf2",
   "metadata": {
    "scrolled": true
   },
   "outputs": [
    {
     "name": "stdout",
     "output_type": "stream",
     "text": [
      "[1, 1, 1, 1, 1, 1, 1, 1, 1, 1, 1, 1, 1, 1, 1, 1, 1, 1, 1, 1, 1, 1, 1, 1, 1, 1, 1, 1, 1, 1, 1, 1, 1, 1, 1, 1, 1, 1, 1, 1, 1, 1, 1, 1, 1, 1, 1, 1, 1, 1, 1, 1, 1, 1, 1, 1, 1, 1, 1, 1, 1, 1, 1, 1, 1, 1, 1, 1, 1, 1, 1, 1, 1, 1, 1, 1, 1, 1, 1, 1, 1, 1, 1, 1, 1, 1, 1, 1, 1, 1, 1, 1, 1, 1, 1, 1, 1, 1, 1, 1, 1, 1, 1, 1, 1, 1, 1, 1, 1, 1, 1, 1, 1, 1, 1, 1, 1, 1, 1, 1, 1, 1, 1, 1, 1, 1, 1, 1, 1, 1, 1, 1, 1, 1, 1, 1, 1, 1, 1, 1, 1, 1, 1, 1, 1, 1, 1, 1, 1, 1, 1, 1, 1, 1, 1, 1, 1, 1, 1, 1, 1, 1, 1, 1, 1, 1, 1, 1, 1, 1, 1, 1, 1, 1, 1, 1, 1, 1, 1, 1, 1, 1, 1, 1, 1, 1, 1, 1, 1, 1, 1, 1, 1, 1, 1, 1, 1, 1, 1, 1, 1, 1, 1, 1, 1, 1, 1, 1, 1, 1, 1, 1, 1, 1, 1, 1, 1, 1, 1, 1, 1, 1, 1, 1, 1, 1, 1, 1, 1, 1, 1, 1, 1, 1, 1, 1, 1, 1, 1, 1, 1, 1, 1, 1, 1, 1, 1, 1, 1, 1, 1, 1, 1, 1, 1, 1, 1, 1, 1, 1, 1, 1, 1, 1, 1, 1, 1, 1, 1, 1, 1, 1, 1, 1, 1, 1, 1, 1, 1, 1, 1, 1, 1, 1, 1, 1, 1, 1, 1, 1, 1, 1, 1, 1, 1, 1, 1, 1, 1, 1, 1, 1, 1, 1, 1, 1, 1, 1, 1, 1, 1, 1, 1, 1, 1, 1, 1, 1, 1, 1, 1, 1, 1, 1, 1, 1, 1, 1, 1, 1, 1, 1, 1, 1, 1, 1, 1, 1, 1, 1, 1, 1, 1, 1, 1, 1, 1, 1, 1, 1, 1, 1, 1, 1, 1, 1, 1, 1, 1, 1, 1, 1, 1, 1, 1, 1, 1, 1, 1, 1, 1, 1, 1, 1, 1, 1, 1, 1, 1, 1, 1, 1, 1, 1, 1, 1, 1, 1, 1, 1, 1, 1, 1, 1, 1, 1, 1, 1, 1, 1, 1, 1, 1, 1, 1, 1, 1, 1, 1, 1, 1, 1, 1, 1, 1, 1, 1, 1, 1, 1, 1, 1, 1, 1, 1, 1, 1, 1, 1, 1, 1, 1, 1, 1, 1, 1, 1, 1, 1, 1, 1, 1, 1, 1, 1, 1, 1, 1, 1, 1, 1, 1, 1, 1, 1, 1, 1, 1, 1, 1, 1, 1, 1, 1, 1, 1, 1, 1, 1, 1, 1, 1, 1, 1, 1, 1, 1, 1, 1, 1, 1, 1, 1, 1, 1, 1, 1, 1, 1, 1, 1, 1, 1, 1, 1, 1, 1, 1, 1, 1, 1, 1, 1, 1, 1, 1, 1, 1, 1, 1, 1, 1, 1, 1, 1, 1, 1, 1, 1, 1, 1, 1, 1, 1, 1, 1, 1, 1, 1, 1, 1, 1, 1, 1, 1, 1, 1, 1, 1, 1, 1, 1, 1, 1, 1, 1, 1, 1, 1, 1, 1, 1, 1, 1, 1, 1, 1, 1, 1, 1, 1, 1, 1, 1, 1, 1, 1, 1, 1, 1, 1, 1, 1, 1, 1, 1, 1, 1, 1, 1, 1, 1, 1, 1, 1, 1, 1, 1, 1, 1, 1, 1, 1, 1, 1, 1, 1, 1, 1, 1, 1, 1, 1, 1, 1, 1, 1, 1, 1, 1, 1, 1, 1, 1, 1, 1, 1, 1, 1, 1, 1, 1, 1, 1, 1, 1, 1, 1, 1, 1, 1, 1, 1, 1, 1, 1, 1, 1, 1, 1, 1, 1, 1, 1, 1, 1, 1, 1, 1, 1, 1, 1, 1, 1, 1, 1, 1, 1, 1, 1, 1, 1, 1, 1, 1, 1, 1, 1, 1, 1, 1, 1, 1, 1, 1, 1, 1, 1, 1, 1, 1, 1, 1, 1, 1, 1, 1, 1, 1, 1, 1, 1, 1, 1, 1, 1, 1, 1, 1, 1, 1, 1, 1, 1, 1, 1, 1, 1, 1, 1, 1, 1, 1, 1, 1, 1, 1, 1, 1, 1, 1, 1, 1, 1, 1, 1, 1, 1, 1, 1, 1, 1, 1, 1, 1, 1, 1, 1, 1, 1, 1, 1, 1, 1, 1, 1, 1, 1, 1, 1, 1, 1, 1, 1, 1, 1, 1, 1, 1, 1, 1, 1, 1, 1, 1, 1, 1, 1, 1, 1, 1, 1, 1, 1, 1, 1, 1, 1, 1, 1, 1, 1, 1, 1, 1, 1, 1, 1, 1, 1, 1, 1, 1, 1, 1, 1, 1, 1, 1, 1, 1, 1, 1, 1, 1, 1, 1, 1, 1, 1, 1, 1, 1, 1, 1, 1, 1, 1, 1, 1, 1, 1, 1, 1, 1, 1, 1, 1, 1, 1, 1, 1, 1, 1, 1, 1, 1, 1, 1, 1, 1, 1, 1, 1, 1, 1, 1, 1, 1, 1, 1, 1, 1, 1, 1, 1, 1, 1, 1, 1, 1, 1, 1, 1, 1, 1, 1, 1, 1, 1, 1, 1, 1, 1, 1, 1, 1, 1, 1, 1, 1, 1, 1, 1, 1, 1, 1, 1, 1, 1, 1, 1, 1, 1, 1, 1, 1, 1, 1, 1, 1, 1, 1, 1, 1, 1, 1, 1, 1, 1, 1, 1, 1, 1, 1, 1, 1, 1, 1, 1, 1, 1, 1, 1, 1, 1, 1, 1, 1, 1, 1, 1, 1, 1, 1, 1, 1, 1, 1, 1, 1, 1, 1, 1, 1, 1, 1, 1, 1, 1, 1, 1, 1, 1, 1, 1, 1, 1, 1, 1, 1, 1, 1, 1, 1, 1, 1, 1, 1, 1, 1, 1, 1, 1, 1, 1, 1, 1, 1, 1, 1, 1, 1, 1, 1, 1, 1, 1, 1, 1, 1, 1, 1, 1, 1, 1, 1, 1, 1, 1, 1]\n"
     ]
    }
   ],
   "source": [
    "start_list = [1 for x in range(1001)] # Quick Way to Create a List Using List Comprehension\n",
    "print(start_list)"
   ]
  },
  {
   "cell_type": "markdown",
   "id": "badf2e94",
   "metadata": {},
   "source": [
    "#### Q3. How do you slice a list to get any other part while missing the rest? (For example, suppose you want to make a new list with the elements first, third, fifth, seventh, and so on.)"
   ]
  },
  {
   "cell_type": "code",
   "execution_count": 3,
   "id": "9a93f905",
   "metadata": {},
   "outputs": [
    {
     "name": "stdout",
     "output_type": "stream",
     "text": [
      "my_list -> [1, 2, 3, 4, 5, 6, 7, 8, 9, 10, 11, 12, 13, 14]\n",
      "sliced_list -> [1, 3, 5, 7, 9, 11, 13]\n"
     ]
    }
   ],
   "source": [
    "my_list = [x for x in range(1,15)]\n",
    "print(f'my_list -> {my_list}')\n",
    "sliced_list = my_list[::2]\n",
    "print(f'sliced_list -> {sliced_list}')"
   ]
  },
  {
   "cell_type": "markdown",
   "id": "5b6a4de8",
   "metadata": {},
   "source": [
    "#### Q4. Explain the distinctions between indexing and slicing ?"
   ]
  },
  {
   "cell_type": "markdown",
   "id": "39642df7",
   "metadata": {},
   "source": [
    "**Ans**: Indexing is used when we have to work on index level. While slicing are used over a range of items."
   ]
  },
  {
   "cell_type": "code",
   "execution_count": 4,
   "id": "bf04d8bc",
   "metadata": {},
   "outputs": [
    {
     "name": "stdout",
     "output_type": "stream",
     "text": [
      "my_list -> [1, 2, 3, 4, 5, 6, 7, 8, 9, 10, 11, 12, 13, 14]\n",
      "Example of indexing -> (2, 6)\n",
      "Example of slicing -> [2, 3, 4, 5]\n"
     ]
    }
   ],
   "source": [
    "my_list = [x for x in range(1,15)]\n",
    "print(f'my_list -> {my_list}')\n",
    "print(f'Example of indexing -> {my_list[1], my_list[5]}')\n",
    "print(f'Example of slicing -> {my_list[1:5]}')"
   ]
  },
  {
   "cell_type": "markdown",
   "id": "643c8e74",
   "metadata": {},
   "source": [
    "#### Q5. What happens if one of the slicing expression's indexes is out of range?"
   ]
  },
  {
   "cell_type": "markdown",
   "id": "356b7e26",
   "metadata": {},
   "source": [
    "**Ans**: If start index is out of range then it will return empty entity."
   ]
  },
  {
   "cell_type": "code",
   "execution_count": 6,
   "id": "9fb3ed62",
   "metadata": {},
   "outputs": [
    {
     "name": "stdout",
     "output_type": "stream",
     "text": [
      "my_list -> [1, 2, 3, 4, 5, 6, 7, 8, 9, 10, 11, 12, 13, 14]\n",
      "Case #1 -> []\n",
      "Case #2 -> [11, 12, 13, 14]\n"
     ]
    }
   ],
   "source": [
    "my_list = [x for x in range(1,15)]\n",
    "my_list = [x for x in range(1,15)]\n",
    "print(f'my_list -> {my_list}')\n",
    "print(f'Case #1 -> {my_list[20:]}')\n",
    "print(f'Case #2 -> {my_list[10:100]}')"
   ]
  },
  {
   "cell_type": "markdown",
   "id": "3c2b4d7f",
   "metadata": {},
   "source": [
    "#### Q6. If you pass a list to a function, and if you want the function to be able to change the values of the list—so that the list is different after the function returns—what action should you do?"
   ]
  },
  {
   "cell_type": "markdown",
   "id": "e917ecaa",
   "metadata": {},
   "source": [
    "**Ans**: Always use `return` statement, if we want the see the changes in the input list."
   ]
  },
  {
   "cell_type": "code",
   "execution_count": 8,
   "id": "f7adfa7a",
   "metadata": {},
   "outputs": [
    {
     "name": "stdout",
     "output_type": "stream",
     "text": [
      "[1, 2, 3, 4, 5, 6, 200]\n"
     ]
    }
   ],
   "source": [
    "my_list = [1,2,3,4,5,6]\n",
    "def modify_list(in_list):\n",
    "    in_list.append(200)\n",
    "    return in_list\n",
    "print(modify_list(my_list))"
   ]
  },
  {
   "cell_type": "markdown",
   "id": "59b6f84b",
   "metadata": {},
   "source": [
    "#### Q7. What is the concept of an unbalanced matrix?"
   ]
  },
  {
   "cell_type": "markdown",
   "id": "dfd98d4c",
   "metadata": {},
   "source": [
    "**Ans**: In Unbalanced Matrix number of rows is not same as number of columns."
   ]
  },
  {
   "cell_type": "markdown",
   "id": "168817d5",
   "metadata": {},
   "source": [
    "#### Q8. Why is it necessary to use either list comprehension or a loop to create arbitrarily large matrices?"
   ]
  },
  {
   "cell_type": "markdown",
   "id": "0e0d6a63",
   "metadata": {},
   "source": [
    "**Ans**: List comprehension or a Loop helps creation of large matrices easy. it also helps to implemeent and avoid manual errors. it also makes reading code easy. Also lot of time for manual feeding is reduced."
   ]
  },
  {
   "cell_type": "code",
   "execution_count": null,
   "id": "8feb6416",
   "metadata": {},
   "outputs": [],
   "source": []
  }
 ],
 "metadata": {
  "kernelspec": {
   "display_name": "Python 3 (ipykernel)",
   "language": "python",
   "name": "python3"
  },
  "language_info": {
   "codemirror_mode": {
    "name": "ipython",
    "version": 3
   },
   "file_extension": ".py",
   "mimetype": "text/x-python",
   "name": "python",
   "nbconvert_exporter": "python",
   "pygments_lexer": "ipython3",
   "version": "3.9.12"
  }
 },
 "nbformat": 4,
 "nbformat_minor": 5
}
