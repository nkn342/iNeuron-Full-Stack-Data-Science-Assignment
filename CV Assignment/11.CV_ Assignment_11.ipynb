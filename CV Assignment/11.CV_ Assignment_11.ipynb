{
 "cells": [
  {
   "cell_type": "markdown",
   "id": "c119ce91",
   "metadata": {},
   "source": [
    "# Assignment 11 Solution\n"
   ]
  },
  {
   "cell_type": "markdown",
   "id": "8ffa4d58",
   "metadata": {},
   "source": [
    "#### Q1. What do REGION PROPOSALS entail?"
   ]
  },
  {
   "cell_type": "markdown",
   "id": "17d7d5f5",
   "metadata": {},
   "source": [
    "**Ans**: Region Proposals are a type of computer vision algorithm that are used to identify and extract potential regions of interest in an image or video. These regions are then used to segment the image or video into different areas of interest. The regions are generated through a combination of low-level image features, such as edges and color, as well as high-level semantic information. Region Proposals can be used to detect objects, faces, and text in images and videos."
   ]
  },
  {
   "cell_type": "markdown",
   "id": "b8d27b6c",
   "metadata": {},
   "source": [
    "#### Q2. What do you mean by NON-MAXIMUM SUPPRESSION? (NMS)"
   ]
  },
  {
   "cell_type": "markdown",
   "id": "13bfcddc",
   "metadata": {},
   "source": [
    "**Ans**: Non-maximum suppression (NMS) is a computer vision technique used to reduce the number of detected objects in an image by removing redundant or overlapping detections. It works by comparing the maximum detection score at each location in the image and discarding any detections with a score below a certain threshold. NMS can help reduce false positives and improve accuracy in object detection tasks."
   ]
  },
  {
   "cell_type": "markdown",
   "id": "8ad0ee8c",
   "metadata": {},
   "source": [
    "#### Q3. What exactly is mAP?"
   ]
  },
  {
   "cell_type": "markdown",
   "id": "a05b444a",
   "metadata": {},
   "source": [
    "**Ans**: mAP stands for mean Average Precision, and it is a metric used to measure the accuracy of object detection algorithms. It is computed by averaging the precision of a model at different recall values, which represents the proportion of objects detected in the image. mAP can also be used to compare different models and determine which one is the most accurate."
   ]
  },
  {
   "cell_type": "markdown",
   "id": "232f8881",
   "metadata": {},
   "source": [
    "####  Q4. What is a frames per second (FPS)?"
   ]
  },
  {
   "cell_type": "markdown",
   "id": "efe1f714",
   "metadata": {},
   "source": [
    "**Ans**: FPS is a measure of the number of individual frames (or images) that compose a single second of video. It is commonly used to measure the frame rate achieved by a video camera, display, or other device. Computer vision applications often require high frame rates to capture and analyze events as they occur, so FPS is an important metric for measuring the performance of these systems."
   ]
  },
  {
   "cell_type": "markdown",
   "id": "32c646cb",
   "metadata": {},
   "source": [
    "#### Q5. What is an IOU (INTERSECTION OVER UNION)?"
   ]
  },
  {
   "cell_type": "markdown",
   "id": "2460d8cc",
   "metadata": {},
   "source": [
    "**Ans**: IOU, or Intersection Over Union, is a metric used to evaluate the accuracy of an object detection algorithm. It is the ratio of the area of overlap between the predicted bounding box and the ground truth bounding box to the total area of the two bounding boxes. A higher IOU indicates a better match between the predicted and ground truth bounding boxes. This metric is commonly used in computer vision tasks such as object detection, image segmentation, and image classification."
   ]
  },
  {
   "cell_type": "markdown",
   "id": "4c37fedd",
   "metadata": {},
   "source": [
    "#### Q6. Describe the PRECISION-RECALL CURVE (PR CURVE)."
   ]
  },
  {
   "cell_type": "markdown",
   "id": "698f85c9",
   "metadata": {},
   "source": [
    "**Ans**: The precision-recall curve (PR curve) is a graphical plot used to evaluate the accuracy of a model in a binary classification task. It is a plot of the precision (positive predictive value) against the recall (sensitivity) of the model. The PR curve is used to measure the trade-off between a model’s precision and recall. The higher the precision and recall, the better the model is at accurately predicting the positive class. The PR curve can also be used to compare different models. The model with the higher area under the curve (AUC) is generally considered to be the more accurate model."
   ]
  },
  {
   "cell_type": "markdown",
   "id": "f3b96344",
   "metadata": {},
   "source": [
    "#### Q7. What is the term \"selective search\"?"
   ]
  },
  {
   "cell_type": "markdown",
   "id": "a9f40e33",
   "metadata": {},
   "source": [
    "**Ans**: Selective search is a method of object detection in computer vision that involves searching an image for objects by iteratively considering a large set of regions. The goal of selective search is to rapidly identify regions in an image that are likely to contain objects, and then to refine these regions to create a set of object proposals."
   ]
  },
  {
   "cell_type": "markdown",
   "id": "90ee8714",
   "metadata": {},
   "source": [
    "#### Q8. Describe the R-CNN model's four components."
   ]
  },
  {
   "cell_type": "markdown",
   "id": "bd195c27",
   "metadata": {},
   "source": [
    "**Ans**:   \n",
    "    \n",
    "1. **Selective Search:** This is the process of proposing potential regions in an image that could contain an object of interest.\n",
    "\n",
    "2. **Region Proposal Network (RPN)**: This is a convolutional neural network that takes in the proposed regions from Selective Search and outputs a set of refined proposals.\n",
    "\n",
    "3. **Convolutional Neural Network (CNN)**: This is a deep learning architecture that takes in the refined proposals from the RPN and classifies them into different classes.\n",
    "\n",
    "4. **Bounding Box Regression**: This is a technique used to adjust the coordinates of the predicted bounding boxes so that they more accurately fit the objects they contain."
   ]
  },
  {
   "cell_type": "markdown",
   "id": "837221de",
   "metadata": {},
   "source": [
    "#### Q9. What exactly is the Localization Module?"
   ]
  },
  {
   "cell_type": "markdown",
   "id": "fc725066",
   "metadata": {},
   "source": [
    "**Ans**: The Localization Module in computer vision is a tool used to locate objects in an image or video. It uses features such as color, shape, and texture to detect objects in an image. It also allows for recognition of objects in different locations in the image. The Localization Module is used in applications such as object tracking, facial recognition, and robotics."
   ]
  },
  {
   "cell_type": "markdown",
   "id": "1552798f",
   "metadata": {},
   "source": [
    "#### Q10. What are the R-CNN DISADVANTAGES?"
   ]
  },
  {
   "cell_type": "markdown",
   "id": "06fec981",
   "metadata": {},
   "source": [
    "**Ans**: The main disadvantages of R-CNN are:\n",
    "\n",
    "1. It is slow due to the multiple steps involved in the detection process.\n",
    "\n",
    "2. It is computationally expensive.\n",
    "\n",
    "3. There is a lack of scalability, as each region proposal needs to be re-evaluated with each new input image.\n",
    "\n",
    "4. It is relatively challenging to implement, as it requires deep learning expertise to properly tune the network.\n",
    "\n",
    "5. It does not produce satisfactory results in scenarios with large objects or objects with a small number of pixels.\n",
    "\n",
    " "
   ]
  },
  {
   "cell_type": "code",
   "execution_count": null,
   "id": "2abe88a0",
   "metadata": {},
   "outputs": [],
   "source": []
  }
 ],
 "metadata": {
  "kernelspec": {
   "display_name": "Python 3 (ipykernel)",
   "language": "python",
   "name": "python3"
  },
  "language_info": {
   "codemirror_mode": {
    "name": "ipython",
    "version": 3
   },
   "file_extension": ".py",
   "mimetype": "text/x-python",
   "name": "python",
   "nbconvert_exporter": "python",
   "pygments_lexer": "ipython3",
   "version": "3.9.12"
  }
 },
 "nbformat": 4,
 "nbformat_minor": 5
}
