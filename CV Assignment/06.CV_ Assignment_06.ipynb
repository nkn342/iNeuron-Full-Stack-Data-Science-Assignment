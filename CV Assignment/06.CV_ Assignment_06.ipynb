{
 "cells": [
  {
   "cell_type": "markdown",
   "id": "354f63d1",
   "metadata": {},
   "source": [
    "#### Q1. What is the difference between TRAINABLE and NON-TRAINABLE PARAMETERS?"
   ]
  },
  {
   "cell_type": "markdown",
   "id": "9174e891",
   "metadata": {},
   "source": [
    "**Ans**: Trainable parameters are parameters that are manipulated by the learning algorithm during the training process, such as weights and biases in a neural network. Non-trainable parameters are parameters that remain fixed during the training process, such as the number of layers or the activation function in a neural network."
   ]
  },
  {
   "cell_type": "markdown",
   "id": "ab4e96f0",
   "metadata": {},
   "source": [
    "#### Q2. In the CNN architecture, where does the DROPOUT LAYER go?"
   ]
  },
  {
   "cell_type": "markdown",
   "id": "925a705d",
   "metadata": {},
   "source": [
    "**Ans**: The dropout layer typically goes after the fully connected layers and before the output layer."
   ]
  },
  {
   "cell_type": "markdown",
   "id": "a4a36fd7",
   "metadata": {},
   "source": [
    "#### Q3. What is the optimal number of hidden layers to stack?"
   ]
  },
  {
   "cell_type": "markdown",
   "id": "a7797f00",
   "metadata": {},
   "source": [
    "**Ans**: The optimal number of hidden layers to stack depends on the complexity of the data and the type of neural network being used. Generally, more complex data requires more layers, whereas simpler data may require fewer layers. Generally, a range of 1 to 4 hidden layers is recommended, although in some cases more may be necessary."
   ]
  },
  {
   "cell_type": "markdown",
   "id": "5ac48038",
   "metadata": {},
   "source": [
    "#### Q4. In each layer, how many secret units or filters should there be?"
   ]
  },
  {
   "cell_type": "markdown",
   "id": "e30fe019",
   "metadata": {},
   "source": [
    "**Ans**: The number of secret units or filters in each layer will depend on the specific problem that the neural network is trying to solve. Generally, the more complex the problem, the more units or filters in each layer.\n",
    "\n"
   ]
  },
  {
   "cell_type": "markdown",
   "id": "3fa83254",
   "metadata": {},
   "source": [
    "#### Q5. What should your initial learning rate be?"
   ]
  },
  {
   "cell_type": "markdown",
   "id": "c9651f97",
   "metadata": {},
   "source": [
    "**Ans**: The initial learning rate should be determined based on the type of problem that is being solved and the type of model being used. A general rule of thumb is to start with a small learning rate (e.g. 0.001) and increase it gradually as the model learns more."
   ]
  },
  {
   "cell_type": "markdown",
   "id": "02fb758c",
   "metadata": {},
   "source": [
    "#### Q6. What do you do with the activation function?"
   ]
  },
  {
   "cell_type": "markdown",
   "id": "d3e26057",
   "metadata": {},
   "source": [
    "**Ans**: The activation function is used to introduce non-linearity into the neural network. It is used to determine the output of the neural network based on the input and the weights of the neurons. The activation function is usually applied after the weighted sum of the inputs is calculated to determine the output of a neuron.\n",
    "\n"
   ]
  },
  {
   "cell_type": "markdown",
   "id": "1aba08f8",
   "metadata": {},
   "source": [
    "#### Q7. What is NORMALIZATION OF DATA?"
   ]
  },
  {
   "cell_type": "markdown",
   "id": "3db11328",
   "metadata": {},
   "source": [
    "**Ans:** Normalization of data is the process of organizing a database to reduce data redundancy and improve data integrity. It involves dividing a database into two or more tables and defining relationships between the tables. Normalization usually involves dividing a database table into smaller tables and defining relationships between them. The goal is to isolate data so that additions, deletions, and modifications of a field can be made in just one table and then propagated through the rest of the database using the defined relationships.\n"
   ]
  },
  {
   "cell_type": "markdown",
   "id": "23d1d23e",
   "metadata": {},
   "source": [
    "#### Q8. What is IMAGE AUGMENTATION and how does it work?"
   ]
  },
  {
   "cell_type": "markdown",
   "id": "2ca6c54a",
   "metadata": {},
   "source": [
    "**Ans**: Image augmentation is a technique used to increase the size and diversity of a dataset of images by applying various transformations to each image in the dataset. These transformations can include rotation, scaling, flips, noise, and a variety of other effects. By applying these transformations to each image, it results in a larger dataset of images with different characteristics, which can be used to improve the performance of machine learning models.\n",
    "\n"
   ]
  },
  {
   "cell_type": "markdown",
   "id": "d03dd550",
   "metadata": {},
   "source": [
    "#### Q9. What is DECLINE IN LEARNING RATE?"
   ]
  },
  {
   "cell_type": "markdown",
   "id": "d24c00c2",
   "metadata": {},
   "source": [
    "**Ans**: Decline in learning rate is a phenomenon in which a student's ability to learn, retain, and recall information decreases over time. It can be caused by a number of factors, including fatigue, lack of motivation, boredom, and poor teaching methods. It is important for educators to recognize the signs of a decline in learning rate and provide students with the necessary tools and resources to help them improve their learning."
   ]
  },
  {
   "cell_type": "markdown",
   "id": "99fdb85e",
   "metadata": {},
   "source": [
    "#### Q10.What does EARLY STOPPING CRITERIA mean?\n",
    "\n"
   ]
  },
  {
   "cell_type": "markdown",
   "id": "8d2ad8aa",
   "metadata": {},
   "source": [
    "**Ans**: Early stopping criteria is a method used in machine learning to determine when to stop training a model. It monitors the performance of the model, such as accuracy and loss, and stops training when the performance has reached a certain threshold or plateau. This prevents the model from overfitting and ensures that the model is as accurate and efficient as possible.\n",
    "\n"
   ]
  },
  {
   "cell_type": "code",
   "execution_count": null,
   "id": "20a57fdc",
   "metadata": {},
   "outputs": [],
   "source": []
  }
 ],
 "metadata": {
  "kernelspec": {
   "display_name": "Python 3 (ipykernel)",
   "language": "python",
   "name": "python3"
  },
  "language_info": {
   "codemirror_mode": {
    "name": "ipython",
    "version": 3
   },
   "file_extension": ".py",
   "mimetype": "text/x-python",
   "name": "python",
   "nbconvert_exporter": "python",
   "pygments_lexer": "ipython3",
   "version": "3.9.12"
  }
 },
 "nbformat": 4,
 "nbformat_minor": 5
}
