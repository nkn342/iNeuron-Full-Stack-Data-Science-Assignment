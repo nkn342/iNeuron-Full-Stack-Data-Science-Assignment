{
 "cells": [
  {
   "cell_type": "markdown",
   "id": "03ddf2f1",
   "metadata": {},
   "source": [
    "# Assignment 15 Solution"
   ]
  },
  {
   "cell_type": "markdown",
   "id": "b758d021",
   "metadata": {},
   "source": [
    "#### Q1. Deep Learning.\n",
    "\n",
    "**a. Build a DNN with five hidden layers of 100 neurons each, He initialization, and the ELU activation function.**\n",
    "\n"
   ]
  },
  {
   "cell_type": "markdown",
   "id": "06a388d8",
   "metadata": {},
   "source": [
    "**Ans**:"
   ]
  },
  {
   "cell_type": "code",
   "execution_count": 2,
   "id": "1ce3c779",
   "metadata": {},
   "outputs": [],
   "source": [
    "import tensorflow as tf\n",
    "from functools import partial"
   ]
  },
  {
   "cell_type": "code",
   "execution_count": 3,
   "id": "ca0af1cf",
   "metadata": {},
   "outputs": [],
   "source": [
    "# Define the number of inputs and outputs\n",
    "n_inputs = 28 * 28 # MNIST\n",
    "n_outputs = 10"
   ]
  },
  {
   "cell_type": "code",
   "execution_count": 4,
   "id": "f535c782",
   "metadata": {},
   "outputs": [],
   "source": [
    "# Define the number of neurons in each hidden layer\n",
    "n_hidden1 = 100\n",
    "n_hidden2 = 100\n",
    "n_hidden3 = 100\n",
    "n_hidden4 = 100\n",
    "n_hidden5 = 100"
   ]
  },
  {
   "cell_type": "code",
   "execution_count": 5,
   "id": "db39afa7",
   "metadata": {},
   "outputs": [],
   "source": [
    "# Define the initializer and activation function to use\n",
    "he_init = tf.keras.initializers.VarianceScaling(scale=2., mode='fan_avg', distribution='uniform')\n",
    "elu_activation = tf.keras.activations.elu"
   ]
  },
  {
   "cell_type": "code",
   "execution_count": 7,
   "id": "684c1fc2",
   "metadata": {},
   "outputs": [],
   "source": [
    "# Create the model using the Sequential API\n",
    "model = tf.keras.models.Sequential([\n",
    "    tf.keras.layers.Flatten(input_shape=[28, 28]), # Flatten the input data\n",
    "    tf.keras.layers.Dense(n_hidden1, activation=elu_activation, kernel_initializer=he_init), # First hidden layer\n",
    "    tf.keras.layers.Dense(n_hidden2, activation=elu_activation, kernel_initializer=he_init), # Second hidden layer\n",
    "    tf.keras.layers.Dense(n_hidden3, activation=elu_activation, kernel_initializer=he_init), # Third hidden layer\n",
    "    tf.keras.layers.Dense(n_hidden4, activation=elu_activation, kernel_initializer=he_init), # Fourth hidden layer\n",
    "    tf.keras.layers.Dense(n_hidden5, activation=elu_activation, kernel_initializer=he_init), # Fifth hidden layer\n",
    "    tf.keras.layers.Dense(n_outputs) # Output layer\n",
    "])"
   ]
  },
  {
   "cell_type": "markdown",
   "id": "6774f526",
   "metadata": {},
   "source": [
    "#### b. Using Adam optimization and early stopping, try training it on MNIST but only on digits 0 to 4, as we will use transfer learning for digits 5 to 9 in the next exercise. You will need a softmax output layer with five neurons, and as always make sure to save checkpoints at regular intervals and save the final model so you can reuse it later.\n",
    "\n",
    "**Ans**:"
   ]
  },
  {
   "cell_type": "code",
   "execution_count": 8,
   "id": "744c7512",
   "metadata": {},
   "outputs": [],
   "source": [
    "from tensorflow import keras\n",
    "import numpy as np"
   ]
  },
  {
   "cell_type": "code",
   "execution_count": 9,
   "id": "a1af0e52",
   "metadata": {},
   "outputs": [],
   "source": [
    "# Load MNIST dataset\n",
    "(X_train_full, y_train_full), (X_test, y_test) = keras.datasets.mnist.load_data()\n"
   ]
  },
  {
   "cell_type": "code",
   "execution_count": 10,
   "id": "d79e19a8",
   "metadata": {},
   "outputs": [],
   "source": [
    "# Scale the data\n",
    "X_train_full = X_train_full / 255.0\n",
    "X_test = X_test / 255.0\n"
   ]
  },
  {
   "cell_type": "code",
   "execution_count": 11,
   "id": "81ee7927",
   "metadata": {},
   "outputs": [],
   "source": [
    "# Create a validation set and training set\n",
    "X_valid, X_train = X_train_full[:5000], X_train_full[5000:]\n",
    "y_valid, y_train = y_train_full[:5000], y_train_full[5000:]\n"
   ]
  },
  {
   "cell_type": "code",
   "execution_count": 12,
   "id": "d0e8de02",
   "metadata": {},
   "outputs": [],
   "source": [
    "# Only keep digits 0 to 4 in the training and validation sets\n",
    "X_train = X_train[y_train < 5]\n",
    "y_train = y_train[y_train < 5]\n",
    "X_valid = X_valid[y_valid < 5]\n",
    "y_valid = y_valid[y_valid < 5]\n"
   ]
  },
  {
   "cell_type": "code",
   "execution_count": 13,
   "id": "bfcb6101",
   "metadata": {},
   "outputs": [],
   "source": [
    "# Build the model\n",
    "model = keras.models.Sequential([\n",
    "    keras.layers.Flatten(input_shape=[28, 28]),\n",
    "    keras.layers.Dense(300, activation=\"relu\"),\n",
    "    keras.layers.Dense(100, activation=\"relu\"),\n",
    "    keras.layers.Dense(5, activation=\"softmax\")\n",
    "])\n"
   ]
  },
  {
   "cell_type": "code",
   "execution_count": 14,
   "id": "03ed717d",
   "metadata": {},
   "outputs": [
    {
     "name": "stdout",
     "output_type": "stream",
     "text": [
      "WARNING:tensorflow:From C:\\Users\\Dell\\anaconda3\\lib\\site-packages\\keras\\src\\optimizers\\__init__.py:309: The name tf.train.Optimizer is deprecated. Please use tf.compat.v1.train.Optimizer instead.\n",
      "\n"
     ]
    }
   ],
   "source": [
    "# Compile the model\n",
    "model.compile(loss=\"sparse_categorical_crossentropy\",\n",
    "              optimizer=\"adam\",\n",
    "              metrics=[\"accuracy\"])"
   ]
  },
  {
   "cell_type": "code",
   "execution_count": 15,
   "id": "7acb86c7",
   "metadata": {},
   "outputs": [],
   "source": [
    "# Define early stopping\n",
    "early_stopping_cb = keras.callbacks.EarlyStopping(patience=10,\n",
    "                                                  restore_best_weights=True)\n"
   ]
  },
  {
   "cell_type": "code",
   "execution_count": 16,
   "id": "8d1028e1",
   "metadata": {
    "scrolled": true
   },
   "outputs": [
    {
     "name": "stdout",
     "output_type": "stream",
     "text": [
      "Epoch 1/30\n",
      "WARNING:tensorflow:From C:\\Users\\Dell\\anaconda3\\lib\\site-packages\\keras\\src\\utils\\tf_utils.py:492: The name tf.ragged.RaggedTensorValue is deprecated. Please use tf.compat.v1.ragged.RaggedTensorValue instead.\n",
      "\n",
      "WARNING:tensorflow:From C:\\Users\\Dell\\anaconda3\\lib\\site-packages\\keras\\src\\engine\\base_layer_utils.py:384: The name tf.executing_eagerly_outside_functions is deprecated. Please use tf.compat.v1.executing_eagerly_outside_functions instead.\n",
      "\n",
      "877/877 [==============================] - 7s 6ms/step - loss: 0.0935 - accuracy: 0.9712 - val_loss: 0.0416 - val_accuracy: 0.9871\n",
      "Epoch 2/30\n",
      "877/877 [==============================] - 5s 6ms/step - loss: 0.0352 - accuracy: 0.9890 - val_loss: 0.0455 - val_accuracy: 0.9828\n",
      "Epoch 3/30\n",
      "877/877 [==============================] - 6s 6ms/step - loss: 0.0210 - accuracy: 0.9932 - val_loss: 0.0341 - val_accuracy: 0.9910\n",
      "Epoch 4/30\n",
      "877/877 [==============================] - 5s 6ms/step - loss: 0.0150 - accuracy: 0.9950 - val_loss: 0.0392 - val_accuracy: 0.9887\n",
      "Epoch 5/30\n",
      "877/877 [==============================] - 6s 6ms/step - loss: 0.0132 - accuracy: 0.9956 - val_loss: 0.0295 - val_accuracy: 0.9918\n",
      "Epoch 6/30\n",
      "877/877 [==============================] - 6s 7ms/step - loss: 0.0095 - accuracy: 0.9968 - val_loss: 0.0313 - val_accuracy: 0.9926\n",
      "Epoch 7/30\n",
      "877/877 [==============================] - 5s 6ms/step - loss: 0.0070 - accuracy: 0.9979 - val_loss: 0.0311 - val_accuracy: 0.9914\n",
      "Epoch 8/30\n",
      "877/877 [==============================] - 6s 6ms/step - loss: 0.0098 - accuracy: 0.9965 - val_loss: 0.0243 - val_accuracy: 0.9930\n",
      "Epoch 9/30\n",
      "877/877 [==============================] - 5s 6ms/step - loss: 0.0046 - accuracy: 0.9985 - val_loss: 0.0341 - val_accuracy: 0.9898\n",
      "Epoch 10/30\n",
      "877/877 [==============================] - 6s 6ms/step - loss: 0.0080 - accuracy: 0.9972 - val_loss: 0.0371 - val_accuracy: 0.9910\n",
      "Epoch 11/30\n",
      "877/877 [==============================] - 6s 6ms/step - loss: 0.0072 - accuracy: 0.9982 - val_loss: 0.0269 - val_accuracy: 0.9934\n",
      "Epoch 12/30\n",
      "877/877 [==============================] - 5s 6ms/step - loss: 0.0034 - accuracy: 0.9986 - val_loss: 0.0307 - val_accuracy: 0.9926\n",
      "Epoch 13/30\n",
      "877/877 [==============================] - 5s 6ms/step - loss: 0.0054 - accuracy: 0.9985 - val_loss: 0.0298 - val_accuracy: 0.9926\n",
      "Epoch 14/30\n",
      "877/877 [==============================] - 6s 7ms/step - loss: 0.0044 - accuracy: 0.9984 - val_loss: 0.0311 - val_accuracy: 0.9934\n",
      "Epoch 15/30\n",
      "877/877 [==============================] - 6s 6ms/step - loss: 0.0024 - accuracy: 0.9991 - val_loss: 0.0219 - val_accuracy: 0.9957\n",
      "Epoch 16/30\n",
      "877/877 [==============================] - 6s 7ms/step - loss: 2.9655e-04 - accuracy: 1.0000 - val_loss: 0.0287 - val_accuracy: 0.9930\n",
      "Epoch 17/30\n",
      "877/877 [==============================] - 7s 8ms/step - loss: 0.0080 - accuracy: 0.9982 - val_loss: 0.0320 - val_accuracy: 0.9937\n",
      "Epoch 18/30\n",
      "877/877 [==============================] - 6s 7ms/step - loss: 0.0032 - accuracy: 0.9989 - val_loss: 0.0419 - val_accuracy: 0.9945\n",
      "Epoch 19/30\n",
      "877/877 [==============================] - 6s 6ms/step - loss: 4.3895e-04 - accuracy: 0.9999 - val_loss: 0.0452 - val_accuracy: 0.9941\n",
      "Epoch 20/30\n",
      "877/877 [==============================] - 5s 6ms/step - loss: 0.0042 - accuracy: 0.9988 - val_loss: 0.0366 - val_accuracy: 0.9934\n",
      "Epoch 21/30\n",
      "877/877 [==============================] - 6s 6ms/step - loss: 0.0030 - accuracy: 0.9991 - val_loss: 0.0387 - val_accuracy: 0.9937\n",
      "Epoch 22/30\n",
      "877/877 [==============================] - 6s 6ms/step - loss: 0.0017 - accuracy: 0.9995 - val_loss: 0.0347 - val_accuracy: 0.9949\n",
      "Epoch 23/30\n",
      "877/877 [==============================] - 6s 6ms/step - loss: 0.0051 - accuracy: 0.9990 - val_loss: 0.0408 - val_accuracy: 0.9918\n",
      "Epoch 24/30\n",
      "877/877 [==============================] - 6s 6ms/step - loss: 0.0049 - accuracy: 0.9986 - val_loss: 0.0425 - val_accuracy: 0.9945\n",
      "Epoch 25/30\n",
      "877/877 [==============================] - 6s 7ms/step - loss: 0.0020 - accuracy: 0.9994 - val_loss: 0.0323 - val_accuracy: 0.9934\n"
     ]
    }
   ],
   "source": [
    "# Train the model\n",
    "history = model.fit(X_train, y_train, epochs=30,\n",
    "                    validation_data=(X_valid, y_valid),\n",
    "                    callbacks=[early_stopping_cb])\n"
   ]
  },
  {
   "cell_type": "code",
   "execution_count": 18,
   "id": "ab192ac1",
   "metadata": {},
   "outputs": [],
   "source": [
    "# Save the final model\n",
    "model.save(\"my_mnist_model.h5\")"
   ]
  },
  {
   "cell_type": "markdown",
   "id": "1b990f3d",
   "metadata": {},
   "source": [
    "#### c. Tune the hyperparameters using cross-validation and see what precision you can achieve.\n",
    "\n",
    "**Ans**:"
   ]
  },
  {
   "cell_type": "code",
   "execution_count": null,
   "id": "47388c63",
   "metadata": {},
   "outputs": [],
   "source": []
  },
  {
   "cell_type": "markdown",
   "id": "b4d4719b",
   "metadata": {},
   "source": [
    "#### d. Now try adding Batch Normalization and compare the learning curves: is it converging faster than before? Does it produce a better model?\n",
    "\n",
    "**Ans:**"
   ]
  },
  {
   "cell_type": "code",
   "execution_count": 19,
   "id": "13f16064",
   "metadata": {},
   "outputs": [],
   "source": [
    "# Build DNN with Batch Normalization\n",
    "model = keras.models.Sequential([\n",
    "    keras.layers.Flatten(input_shape=[28, 28]),\n",
    "    keras.layers.BatchNormalization(),\n",
    "    keras.layers.Dense(100, activation=\"elu\", kernel_initializer=\"he_normal\"),\n",
    "    keras.layers.BatchNormalization(),\n",
    "    keras.layers.Dense(100, activation=\"elu\", kernel_initializer=\"he_normal\"),\n",
    "    keras.layers.BatchNormalization(),\n",
    "    keras.layers.Dense(100, activation=\"elu\", kernel_initializer=\"he_normal\"),\n",
    "    keras.layers.BatchNormalization(),\n",
    "    keras.layers.Dense(100, activation=\"elu\", kernel_initializer=\"he_normal\"),\n",
    "    keras.layers.BatchNormalization(),\n",
    "    keras.layers.Dense(5, activation=\"softmax\")\n",
    "])"
   ]
  },
  {
   "cell_type": "code",
   "execution_count": 20,
   "id": "b519dd21",
   "metadata": {},
   "outputs": [],
   "source": [
    "# Compile model\n",
    "model.compile(loss=\"sparse_categorical_crossentropy\",\n",
    "              optimizer=keras.optimizers.Adam(),\n",
    "              metrics=[\"accuracy\"])"
   ]
  },
  {
   "cell_type": "code",
   "execution_count": 21,
   "id": "82890b70",
   "metadata": {
    "scrolled": true
   },
   "outputs": [
    {
     "name": "stdout",
     "output_type": "stream",
     "text": [
      "Epoch 1/100\n",
      "877/877 [==============================] - 11s 7ms/step - loss: 0.1305 - accuracy: 0.9592 - val_loss: 0.0545 - val_accuracy: 0.9808\n",
      "Epoch 2/100\n",
      "877/877 [==============================] - 5s 6ms/step - loss: 0.0628 - accuracy: 0.9806 - val_loss: 0.0448 - val_accuracy: 0.9848\n",
      "Epoch 3/100\n",
      "877/877 [==============================] - 5s 6ms/step - loss: 0.0433 - accuracy: 0.9861 - val_loss: 0.0391 - val_accuracy: 0.9867\n",
      "Epoch 4/100\n",
      "877/877 [==============================] - 5s 6ms/step - loss: 0.0375 - accuracy: 0.9883 - val_loss: 0.0455 - val_accuracy: 0.9863\n",
      "Epoch 5/100\n",
      "877/877 [==============================] - 5s 6ms/step - loss: 0.0296 - accuracy: 0.9904 - val_loss: 0.0405 - val_accuracy: 0.9891\n",
      "Epoch 6/100\n",
      "877/877 [==============================] - 5s 6ms/step - loss: 0.0253 - accuracy: 0.9915 - val_loss: 0.0368 - val_accuracy: 0.9894\n",
      "Epoch 7/100\n",
      "877/877 [==============================] - 5s 6ms/step - loss: 0.0203 - accuracy: 0.9933 - val_loss: 0.0382 - val_accuracy: 0.9898\n",
      "Epoch 8/100\n",
      "877/877 [==============================] - 6s 7ms/step - loss: 0.0237 - accuracy: 0.9924 - val_loss: 0.0435 - val_accuracy: 0.9891\n",
      "Epoch 9/100\n",
      "877/877 [==============================] - 7s 7ms/step - loss: 0.0173 - accuracy: 0.9943 - val_loss: 0.0452 - val_accuracy: 0.9894\n",
      "Epoch 10/100\n",
      "877/877 [==============================] - 7s 8ms/step - loss: 0.0192 - accuracy: 0.9938 - val_loss: 0.0384 - val_accuracy: 0.9894\n",
      "Epoch 11/100\n",
      "877/877 [==============================] - 7s 8ms/step - loss: 0.0157 - accuracy: 0.9949 - val_loss: 0.0345 - val_accuracy: 0.9906\n",
      "Epoch 12/100\n",
      "877/877 [==============================] - 7s 8ms/step - loss: 0.0162 - accuracy: 0.9946 - val_loss: 0.0362 - val_accuracy: 0.9910\n",
      "Epoch 13/100\n",
      "877/877 [==============================] - 6s 7ms/step - loss: 0.0147 - accuracy: 0.9954 - val_loss: 0.0355 - val_accuracy: 0.9918\n",
      "Epoch 14/100\n",
      "877/877 [==============================] - 6s 6ms/step - loss: 0.0117 - accuracy: 0.9959 - val_loss: 0.0401 - val_accuracy: 0.9902\n",
      "Epoch 15/100\n",
      "877/877 [==============================] - 6s 6ms/step - loss: 0.0111 - accuracy: 0.9963 - val_loss: 0.0433 - val_accuracy: 0.9898\n",
      "Epoch 16/100\n",
      "877/877 [==============================] - 6s 7ms/step - loss: 0.0130 - accuracy: 0.9959 - val_loss: 0.0359 - val_accuracy: 0.9918\n",
      "Epoch 17/100\n",
      "877/877 [==============================] - 6s 7ms/step - loss: 0.0115 - accuracy: 0.9963 - val_loss: 0.0289 - val_accuracy: 0.9910\n",
      "Epoch 18/100\n",
      "877/877 [==============================] - 6s 6ms/step - loss: 0.0104 - accuracy: 0.9969 - val_loss: 0.0284 - val_accuracy: 0.9941\n",
      "Epoch 19/100\n",
      "877/877 [==============================] - 6s 6ms/step - loss: 0.0072 - accuracy: 0.9974 - val_loss: 0.0484 - val_accuracy: 0.9910\n",
      "Epoch 20/100\n",
      "877/877 [==============================] - 6s 6ms/step - loss: 0.0107 - accuracy: 0.9966 - val_loss: 0.0417 - val_accuracy: 0.9918\n",
      "Epoch 21/100\n",
      "877/877 [==============================] - 6s 7ms/step - loss: 0.0096 - accuracy: 0.9969 - val_loss: 0.0518 - val_accuracy: 0.9887\n",
      "Epoch 22/100\n",
      "877/877 [==============================] - 6s 7ms/step - loss: 0.0072 - accuracy: 0.9978 - val_loss: 0.0478 - val_accuracy: 0.9910\n",
      "Epoch 23/100\n",
      "877/877 [==============================] - 6s 7ms/step - loss: 0.0093 - accuracy: 0.9966 - val_loss: 0.0444 - val_accuracy: 0.9922\n",
      "Epoch 24/100\n",
      "877/877 [==============================] - 6s 7ms/step - loss: 0.0060 - accuracy: 0.9983 - val_loss: 0.0495 - val_accuracy: 0.9914\n",
      "Epoch 25/100\n",
      "877/877 [==============================] - 6s 6ms/step - loss: 0.0086 - accuracy: 0.9974 - val_loss: 0.0479 - val_accuracy: 0.9894\n",
      "Epoch 26/100\n",
      "877/877 [==============================] - 6s 6ms/step - loss: 0.0073 - accuracy: 0.9979 - val_loss: 0.0507 - val_accuracy: 0.9887\n",
      "Epoch 27/100\n",
      "877/877 [==============================] - 6s 6ms/step - loss: 0.0101 - accuracy: 0.9967 - val_loss: 0.0440 - val_accuracy: 0.9922\n",
      "Epoch 28/100\n",
      "877/877 [==============================] - 6s 7ms/step - loss: 0.0071 - accuracy: 0.9979 - val_loss: 0.0351 - val_accuracy: 0.9918\n"
     ]
    }
   ],
   "source": [
    "# Train model\n",
    "history_bn = model.fit(X_train, y_train, epochs=100, batch_size=32,\n",
    "                       validation_data=(X_valid, y_valid),\n",
    "                       callbacks=[early_stopping_cb])\n"
   ]
  },
  {
   "cell_type": "code",
   "execution_count": 22,
   "id": "0b04e2d8",
   "metadata": {},
   "outputs": [],
   "source": [
    "import matplotlib.pyplot as plt"
   ]
  },
  {
   "cell_type": "code",
   "execution_count": 23,
   "id": "edbdcd4e",
   "metadata": {
    "scrolled": true
   },
   "outputs": [
    {
     "data": {
      "image/png": "[encoded data removed]",
      "text/plain": [
       "<Figure size 432x288 with 1 Axes>"
      ]
     },
     "metadata": {
      "needs_background": "light"
     },
     "output_type": "display_data"
    },
    {
     "data": {
      "image/png": "[encoded data removed]",
      "text/plain": [
       "<Figure size 432x288 with 1 Axes>"
      ]
     },
     "metadata": {
      "needs_background": "light"
     },
     "output_type": "display_data"
    }
   ],
   "source": [
    "# Plot learning curves\n",
    "def plot_learning_curves(history, label=None):\n",
    "    plt.plot(history.history[\"loss\"], label=label + \" training\")\n",
    "    plt.plot(history.history[\"val_loss\"], label=label + \" validation\")\n",
    "    plt.legend()\n",
    "    plt.title(\"Learning curves\")\n",
    "    plt.xlabel(\"Epochs\")\n",
    "    plt.ylabel(\"Loss\")\n",
    "    plt.show()\n",
    "\n",
    "plot_learning_curves(history, label=\"Original\")\n",
    "plot_learning_curves(history_bn, label=\"Batch Normalization\")\n"
   ]
  },
  {
   "cell_type": "markdown",
   "id": "a534101d",
   "metadata": {},
   "source": [
    "#### e. Is the model overfitting the training set? Try adding dropout to every layer and try again. Does it help?\n",
    "\n",
    "**Ans:**"
   ]
  },
  {
   "cell_type": "code",
   "execution_count": 24,
   "id": "d1236acd",
   "metadata": {},
   "outputs": [],
   "source": [
    "# Build DNN with Dropout\n",
    "model = keras.models.Sequential([\n",
    "    keras.layers.Flatten(input_shape=[28, 28]),\n",
    "    keras.layers.Dropout(rate=0.2),\n",
    "    keras.layers.Dense(100, activation=\"elu\", kernel_initializer=\"he_normal\"),\n",
    "    keras.layers.Dropout(rate=0.2),\n",
    "    keras.layers.Dense(100, activation=\"elu\", kernel_initializer=\"he_normal\"),\n",
    "    keras.layers.Dropout(rate=0.2),\n",
    "    keras.layers.Dense(100, activation=\"elu\", kernel_initializer=\"he_normal\"),\n",
    "    keras.layers.Dropout(rate=0.2),\n",
    "    keras.layers.Dense(100, activation=\"elu\", kernel_initializer=\"he_normal\"),\n",
    "    keras.layers.Dropout(rate=0.2),\n",
    "    keras.layers.Dense(5, activation=\"softmax\")\n",
    "])"
   ]
  },
  {
   "cell_type": "code",
   "execution_count": 25,
   "id": "9fb8c8de",
   "metadata": {},
   "outputs": [],
   "source": [
    "# Compile model\n",
    "model.compile(loss=\"sparse_categorical_crossentropy\",\n",
    "              optimizer=keras.optimizers.Adam(),\n",
    "              metrics=[\"accuracy\"])"
   ]
  },
  {
   "cell_type": "code",
   "execution_count": 26,
   "id": "a8f0a0e4",
   "metadata": {},
   "outputs": [
    {
     "name": "stdout",
     "output_type": "stream",
     "text": [
      "Epoch 1/100\n",
      "877/877 [==============================] - 8s 7ms/step - loss: 0.2092 - accuracy: 0.9344 - val_loss: 0.0790 - val_accuracy: 0.9765\n",
      "Epoch 2/100\n",
      "877/877 [==============================] - 6s 6ms/step - loss: 0.1153 - accuracy: 0.9657 - val_loss: 0.0592 - val_accuracy: 0.9820\n",
      "Epoch 3/100\n",
      "877/877 [==============================] - 6s 7ms/step - loss: 0.0901 - accuracy: 0.9731 - val_loss: 0.0521 - val_accuracy: 0.9848\n",
      "Epoch 4/100\n",
      "877/877 [==============================] - 6s 7ms/step - loss: 0.0833 - accuracy: 0.9741 - val_loss: 0.0503 - val_accuracy: 0.9840\n",
      "Epoch 5/100\n",
      "877/877 [==============================] - 5s 6ms/step - loss: 0.0676 - accuracy: 0.9801 - val_loss: 0.0427 - val_accuracy: 0.9875\n",
      "Epoch 6/100\n",
      "877/877 [==============================] - 5s 6ms/step - loss: 0.0646 - accuracy: 0.9797 - val_loss: 0.0485 - val_accuracy: 0.9844\n",
      "Epoch 7/100\n",
      "877/877 [==============================] - 5s 6ms/step - loss: 0.0544 - accuracy: 0.9842 - val_loss: 0.0331 - val_accuracy: 0.9883\n",
      "Epoch 8/100\n",
      "877/877 [==============================] - 5s 6ms/step - loss: 0.0570 - accuracy: 0.9827 - val_loss: 0.0289 - val_accuracy: 0.9910\n",
      "Epoch 9/100\n",
      "877/877 [==============================] - 5s 6ms/step - loss: 0.0519 - accuracy: 0.9839 - val_loss: 0.0310 - val_accuracy: 0.9894\n",
      "Epoch 10/100\n",
      "877/877 [==============================] - 5s 6ms/step - loss: 0.0444 - accuracy: 0.9865 - val_loss: 0.0315 - val_accuracy: 0.9902\n",
      "Epoch 11/100\n",
      "877/877 [==============================] - 5s 6ms/step - loss: 0.0438 - accuracy: 0.9858 - val_loss: 0.0247 - val_accuracy: 0.9906\n",
      "Epoch 12/100\n",
      "877/877 [==============================] - 6s 7ms/step - loss: 0.0390 - accuracy: 0.9878 - val_loss: 0.0392 - val_accuracy: 0.9867\n",
      "Epoch 13/100\n",
      "877/877 [==============================] - 5s 6ms/step - loss: 0.0407 - accuracy: 0.9877 - val_loss: 0.0212 - val_accuracy: 0.9922\n",
      "Epoch 14/100\n",
      "877/877 [==============================] - 6s 7ms/step - loss: 0.0353 - accuracy: 0.9890 - val_loss: 0.0274 - val_accuracy: 0.9910\n",
      "Epoch 15/100\n",
      "877/877 [==============================] - 5s 6ms/step - loss: 0.0363 - accuracy: 0.9895 - val_loss: 0.0279 - val_accuracy: 0.9902\n",
      "Epoch 16/100\n",
      "877/877 [==============================] - 5s 6ms/step - loss: 0.0323 - accuracy: 0.9895 - val_loss: 0.0343 - val_accuracy: 0.9891\n",
      "Epoch 17/100\n",
      "877/877 [==============================] - 5s 6ms/step - loss: 0.0335 - accuracy: 0.9898 - val_loss: 0.0191 - val_accuracy: 0.9930\n",
      "Epoch 18/100\n",
      "877/877 [==============================] - 5s 6ms/step - loss: 0.0317 - accuracy: 0.9903 - val_loss: 0.0211 - val_accuracy: 0.9902\n",
      "Epoch 19/100\n",
      "877/877 [==============================] - 5s 6ms/step - loss: 0.0284 - accuracy: 0.9908 - val_loss: 0.0251 - val_accuracy: 0.9922\n",
      "Epoch 20/100\n",
      "877/877 [==============================] - 5s 6ms/step - loss: 0.0286 - accuracy: 0.9910 - val_loss: 0.0259 - val_accuracy: 0.9930\n",
      "Epoch 21/100\n",
      "877/877 [==============================] - 6s 7ms/step - loss: 0.0294 - accuracy: 0.9911 - val_loss: 0.0225 - val_accuracy: 0.9934\n",
      "Epoch 22/100\n",
      "877/877 [==============================] - 5s 6ms/step - loss: 0.0282 - accuracy: 0.9915 - val_loss: 0.0264 - val_accuracy: 0.9926\n",
      "Epoch 23/100\n",
      "877/877 [==============================] - 6s 6ms/step - loss: 0.0282 - accuracy: 0.9915 - val_loss: 0.0271 - val_accuracy: 0.9930\n",
      "Epoch 24/100\n",
      "877/877 [==============================] - 6s 6ms/step - loss: 0.0228 - accuracy: 0.9930 - val_loss: 0.0355 - val_accuracy: 0.9906\n",
      "Epoch 25/100\n",
      "877/877 [==============================] - 6s 6ms/step - loss: 0.0227 - accuracy: 0.9934 - val_loss: 0.0447 - val_accuracy: 0.9887\n",
      "Epoch 26/100\n",
      "877/877 [==============================] - 5s 6ms/step - loss: 0.0263 - accuracy: 0.9918 - val_loss: 0.0322 - val_accuracy: 0.9910\n",
      "Epoch 27/100\n",
      "877/877 [==============================] - 5s 6ms/step - loss: 0.0228 - accuracy: 0.9933 - val_loss: 0.0242 - val_accuracy: 0.9949\n"
     ]
    }
   ],
   "source": [
    "# Train model\n",
    "history_dropout = model.fit(X_train, y_train, epochs=100, batch_size=32,\n",
    "                            validation_data=(X_valid, y_valid),\n",
    "                            callbacks=[early_stopping_cb])\n"
   ]
  },
  {
   "cell_type": "code",
   "execution_count": 27,
   "id": "80396fab",
   "metadata": {},
   "outputs": [
    {
     "data": {
      "image/png": "[encoded data removed]",
      "text/plain": [
       "<Figure size 432x288 with 1 Axes>"
      ]
     },
     "metadata": {
      "needs_background": "light"
     },
     "output_type": "display_data"
    },
    {
     "data": {
      "image/png": "[encoded data removed]",
      "text/plain": [
       "<Figure size 432x288 with 1 Axes>"
      ]
     },
     "metadata": {
      "needs_background": "light"
     },
     "output_type": "display_data"
    }
   ],
   "source": [
    "plot_learning_curves(history_bn, label=\"Batch Normalization\")\n",
    "plot_learning_curves(history_dropout, label=\"Dropout\")\n"
   ]
  },
  {
   "cell_type": "markdown",
   "id": "d3f1e24b",
   "metadata": {},
   "source": [
    "#### Q2. Transfer learning.\n",
    "\n",
    "**a. Create a new DNN that reuses all the pretrained hidden layers of the previous model, freezes them, and replaces the softmax output layer with a new one.**\n",
    "\n",
    "**b. Train this new DNN on digits 5 to 9, using only 100 images per digit, and time how long it takes. Despite this small number of examples, can you achieve high precision?**\n",
    "\n",
    "**c. Try caching the frozen layers, and train the model again: how much faster is it now?**\n",
    "\n",
    "**d. Try again reusing just four hidden layers instead of five. Can you achieve a higher precision?**\n",
    "\n",
    "**e. Now unfreeze the top two hidden layers and continue training: can you get the model to perform even better?**"
   ]
  },
  {
   "cell_type": "markdown",
   "id": "14240274",
   "metadata": {},
   "source": [
    "**Ans**:"
   ]
  },
  {
   "cell_type": "code",
   "execution_count": 28,
   "id": "ad225968",
   "metadata": {},
   "outputs": [],
   "source": [
    "import tensorflow as tf\n",
    "from tensorflow import keras"
   ]
  },
  {
   "cell_type": "code",
   "execution_count": 29,
   "id": "5f821aca",
   "metadata": {
    "scrolled": true
   },
   "outputs": [
    {
     "name": "stdout",
     "output_type": "stream",
     "text": [
      "Model: \"sequential_2\"\n",
      "_________________________________________________________________\n",
      " Layer (type)                Output Shape              Param #   \n",
      "=================================================================\n",
      " flatten_2 (Flatten)         (None, 784)               0         \n",
      "                                                                 \n",
      " dense_12 (Dense)            (None, 300)               235500    \n",
      "                                                                 \n",
      " dense_13 (Dense)            (None, 100)               30100     \n",
      "                                                                 \n",
      " dense_14 (Dense)            (None, 5)                 505       \n",
      "                                                                 \n",
      "=================================================================\n",
      "Total params: 266105 (1.02 MB)\n",
      "Trainable params: 266105 (1.02 MB)\n",
      "Non-trainable params: 0 (0.00 Byte)\n",
      "_________________________________________________________________\n"
     ]
    }
   ],
   "source": [
    "# Load the pretrained model\n",
    "pretrained_model = keras.models.load_model(\"my_mnist_model.h5\")\n",
    "pretrained_model.summary()\n"
   ]
  },
  {
   "cell_type": "code",
   "execution_count": 30,
   "id": "9dedf6fa",
   "metadata": {},
   "outputs": [],
   "source": [
    "# Create a new DNN that reuses all the pretrained hidden layers of the previous model\n",
    "new_model = keras.models.Sequential(pretrained_model.layers[:-1])\n"
   ]
  },
  {
   "cell_type": "code",
   "execution_count": 31,
   "id": "bb7f4dbb",
   "metadata": {},
   "outputs": [],
   "source": [
    "# Freeze the reused layers\n",
    "for layer in new_model.layers:\n",
    "    layer.trainable = False"
   ]
  },
  {
   "cell_type": "code",
   "execution_count": 32,
   "id": "8957a95e",
   "metadata": {},
   "outputs": [],
   "source": [
    "# Add a new softmax output layer with the desired number of units\n",
    "new_model.add(keras.layers.Dense(5, activation=\"softmax\"))\n"
   ]
  },
  {
   "cell_type": "code",
   "execution_count": 33,
   "id": "768a8971",
   "metadata": {},
   "outputs": [],
   "source": [
    "# Compile the new model\n",
    "new_model.compile(loss=\"sparse_categorical_crossentropy\", optimizer=\"sgd\", metrics=[\"accuracy\"])\n"
   ]
  },
  {
   "cell_type": "code",
   "execution_count": 34,
   "id": "f41b2021",
   "metadata": {},
   "outputs": [],
   "source": [
    "# Load the training data for digits 5 to 9\n",
    "(X_train, y_train), (X_test, y_test) = keras.datasets.mnist.load_data()\n",
    "X_train = X_train[y_train >= 5]\n",
    "y_train = y_train[y_train >= 5] - 5\n",
    "X_test = X_test[y_test >= 5]\n",
    "y_test = y_test[y_test >= 5] - 5"
   ]
  },
  {
   "cell_type": "code",
   "execution_count": 35,
   "id": "0eae533e",
   "metadata": {},
   "outputs": [
    {
     "name": "stdout",
     "output_type": "stream",
     "text": [
      "Epoch 1/10\n",
      "16/16 [==============================] - 1s 55ms/step - loss: 5441.3247 - accuracy: 0.5780 - val_loss: 3893.1721 - val_accuracy: 0.5719\n",
      "Epoch 2/10\n",
      "16/16 [==============================] - 1s 37ms/step - loss: 2732.3601 - accuracy: 0.7380 - val_loss: 8105.5684 - val_accuracy: 0.5192\n",
      "Epoch 3/10\n",
      "16/16 [==============================] - 1s 35ms/step - loss: 2828.9941 - accuracy: 0.7320 - val_loss: 5717.3540 - val_accuracy: 0.5591\n",
      "Epoch 4/10\n",
      "16/16 [==============================] - 1s 39ms/step - loss: 1881.2054 - accuracy: 0.7880 - val_loss: 2501.9626 - val_accuracy: 0.7052\n",
      "Epoch 5/10\n",
      "16/16 [==============================] - 1s 42ms/step - loss: 1656.0403 - accuracy: 0.7820 - val_loss: 5950.2910 - val_accuracy: 0.6414\n",
      "Epoch 6/10\n",
      "16/16 [==============================] - 1s 39ms/step - loss: 1720.6633 - accuracy: 0.8180 - val_loss: 2344.8901 - val_accuracy: 0.7505\n",
      "Epoch 7/10\n",
      "16/16 [==============================] - 1s 41ms/step - loss: 1703.5388 - accuracy: 0.7900 - val_loss: 1897.9724 - val_accuracy: 0.8081\n",
      "Epoch 8/10\n",
      "16/16 [==============================] - 1s 37ms/step - loss: 1244.5601 - accuracy: 0.8400 - val_loss: 2942.4189 - val_accuracy: 0.7093\n",
      "Epoch 9/10\n",
      "16/16 [==============================] - 1s 39ms/step - loss: 989.0888 - accuracy: 0.8400 - val_loss: 3536.1423 - val_accuracy: 0.6840\n",
      "Epoch 10/10\n",
      "16/16 [==============================] - 1s 35ms/step - loss: 1973.4703 - accuracy: 0.7880 - val_loss: 2278.2856 - val_accuracy: 0.7867\n"
     ]
    }
   ],
   "source": [
    "# Train the new model on digits 5 to 9 using only 100 images per digit\n",
    "history = new_model.fit(X_train[:500], y_train[:500], epochs=10, validation_data=(X_test, y_test))\n"
   ]
  },
  {
   "cell_type": "code",
   "execution_count": 36,
   "id": "ca37232f",
   "metadata": {},
   "outputs": [
    {
     "name": "stdout",
     "output_type": "stream",
     "text": [
      "152/152 [==============================] - 1s 3ms/step - loss: 2278.2856 - accuracy: 0.7867\n",
      "Test accuracy: 0.7866694331169128\n"
     ]
    }
   ],
   "source": [
    "# Evaluate the trained model\n",
    "test_loss, test_acc = new_model.evaluate(X_test, y_test)\n",
    "print(f\"Test accuracy: {test_acc}\")\n"
   ]
  },
  {
   "cell_type": "code",
   "execution_count": 37,
   "id": "8e9fc9ee",
   "metadata": {},
   "outputs": [
    {
     "name": "stdout",
     "output_type": "stream",
     "text": [
      "Epoch 1/10\n",
      "16/16 [==============================] - 1s 55ms/step - loss: 813.8452 - accuracy: 0.8660 - val_loss: 1339.1198 - val_accuracy: 0.8303\n",
      "Epoch 2/10\n",
      "16/16 [==============================] - 1s 40ms/step - loss: 801.4152 - accuracy: 0.8580 - val_loss: 1625.9537 - val_accuracy: 0.8070\n",
      "Epoch 3/10\n",
      "16/16 [==============================] - 1s 33ms/step - loss: 913.3399 - accuracy: 0.8800 - val_loss: 4121.3047 - val_accuracy: 0.6715\n",
      "Epoch 4/10\n",
      "16/16 [==============================] - 1s 39ms/step - loss: 1194.6594 - accuracy: 0.8380 - val_loss: 2410.6760 - val_accuracy: 0.7540\n",
      "Epoch 5/10\n",
      "16/16 [==============================] - 1s 39ms/step - loss: 844.2501 - accuracy: 0.8600 - val_loss: 1583.9987 - val_accuracy: 0.8206\n",
      "Epoch 6/10\n",
      "16/16 [==============================] - 1s 34ms/step - loss: 428.1923 - accuracy: 0.8920 - val_loss: 2814.3250 - val_accuracy: 0.7145\n",
      "Epoch 7/10\n",
      "16/16 [==============================] - 1s 42ms/step - loss: 1157.0613 - accuracy: 0.8160 - val_loss: 1910.6104 - val_accuracy: 0.8231\n",
      "Epoch 8/10\n",
      "16/16 [==============================] - 1s 36ms/step - loss: 619.9574 - accuracy: 0.9020 - val_loss: 2294.0173 - val_accuracy: 0.7601\n",
      "Epoch 9/10\n",
      "16/16 [==============================] - 1s 34ms/step - loss: 1040.9651 - accuracy: 0.8440 - val_loss: 1771.4473 - val_accuracy: 0.8165\n",
      "Epoch 10/10\n",
      "16/16 [==============================] - 1s 36ms/step - loss: 776.5816 - accuracy: 0.8840 - val_loss: 1912.6688 - val_accuracy: 0.7945\n"
     ]
    }
   ],
   "source": [
    "# Try caching the frozen layers and train the model again\n",
    "new_model.layers[0].trainable = True\n",
    "new_model.compile(loss=\"sparse_categorical_crossentropy\", optimizer=\"sgd\", metrics=[\"accuracy\"])\n",
    "history = new_model.fit(X_train[:500], y_train[:500], epochs=10, validation_data=(X_test, y_test))\n"
   ]
  },
  {
   "cell_type": "code",
   "execution_count": 38,
   "id": "79c494b7",
   "metadata": {},
   "outputs": [
    {
     "name": "stdout",
     "output_type": "stream",
     "text": [
      "152/152 [==============================] - 1s 3ms/step - loss: 1912.6688 - accuracy: 0.7945\n",
      "Test accuracy: 0.7944867014884949\n"
     ]
    }
   ],
   "source": [
    "# Evaluate the trained model again\n",
    "test_loss, test_acc = new_model.evaluate(X_test, y_test)\n",
    "print(f\"Test accuracy: {test_acc}\")\n"
   ]
  },
  {
   "cell_type": "code",
   "execution_count": 39,
   "id": "b3e6915c",
   "metadata": {},
   "outputs": [
    {
     "name": "stdout",
     "output_type": "stream",
     "text": [
      "Epoch 1/10\n",
      "16/16 [==============================] - 2s 58ms/step - loss: 1808.6482 - accuracy: 0.6700 - val_loss: 559.6791 - val_accuracy: 0.8280\n",
      "Epoch 2/10\n",
      "16/16 [==============================] - 1s 49ms/step - loss: 400.3824 - accuracy: 0.8500 - val_loss: 1244.8416 - val_accuracy: 0.7503\n",
      "Epoch 3/10\n",
      "16/16 [==============================] - 1s 49ms/step - loss: 223.5965 - accuracy: 0.9160 - val_loss: 255.3690 - val_accuracy: 0.9015\n",
      "Epoch 4/10\n",
      "16/16 [==============================] - 1s 50ms/step - loss: 155.3806 - accuracy: 0.9160 - val_loss: 265.1325 - val_accuracy: 0.8805\n",
      "Epoch 5/10\n",
      "16/16 [==============================] - 1s 56ms/step - loss: 126.2179 - accuracy: 0.9280 - val_loss: 242.6795 - val_accuracy: 0.8926\n",
      "Epoch 6/10\n",
      "16/16 [==============================] - 1s 72ms/step - loss: 75.2245 - accuracy: 0.9480 - val_loss: 326.2697 - val_accuracy: 0.8609\n",
      "Epoch 7/10\n",
      "16/16 [==============================] - 1s 41ms/step - loss: 33.5346 - accuracy: 0.9620 - val_loss: 314.1270 - val_accuracy: 0.8712\n",
      "Epoch 8/10\n",
      "16/16 [==============================] - 0s 32ms/step - loss: 9.8276 - accuracy: 0.9820 - val_loss: 197.6739 - val_accuracy: 0.9099\n",
      "Epoch 9/10\n",
      "16/16 [==============================] - 0s 32ms/step - loss: 8.6742 - accuracy: 0.9860 - val_loss: 200.9101 - val_accuracy: 0.9029\n",
      "Epoch 10/10\n",
      "16/16 [==============================] - 0s 32ms/step - loss: 1.9957 - accuracy: 0.9920 - val_loss: 275.0585 - val_accuracy: 0.8776\n"
     ]
    }
   ],
   "source": [
    "# Try again reusing just four hidden layers instead of five\n",
    "new_model2 = keras.models.Sequential(pretrained_model.layers[:-2])\n",
    "for layer in new_model2.layers:\n",
    "    layer.trainable = False\n",
    "new_model2.add(keras.layers.Dense(5, activation=\"softmax\"))\n",
    "new_model2.compile(loss=\"sparse_categorical_crossentropy\", optimizer=\"sgd\", metrics=[\"accuracy\"])\n",
    "history = new_model2.fit(X_train[:500], y_train[:500], epochs=10, validation_data=(X_test, y_test))\n"
   ]
  },
  {
   "cell_type": "code",
   "execution_count": 40,
   "id": "cf8b9a41",
   "metadata": {},
   "outputs": [
    {
     "name": "stdout",
     "output_type": "stream",
     "text": [
      "152/152 [==============================] - 0s 3ms/step - loss: 275.0585 - accuracy: 0.8776\n",
      "Test accuracy: 0.8775972127914429\n"
     ]
    }
   ],
   "source": [
    "# Evaluate the trained model again\n",
    "test_loss, test_acc = new_model2.evaluate(X_test, y_test)\n",
    "print(f\"Test accuracy: {test_acc}\")\n"
   ]
  },
  {
   "cell_type": "code",
   "execution_count": 41,
   "id": "b7445b2c",
   "metadata": {},
   "outputs": [
    {
     "name": "stdout",
     "output_type": "stream",
     "text": [
      "Epoch 1/10\n",
      "16/16 [==============================] - 1s 50ms/step - loss: 1649479.6250 - accuracy: 0.3300 - val_loss: 27.8606 - val_accuracy: 0.3150\n",
      "Epoch 2/10\n",
      "16/16 [==============================] - 0s 32ms/step - loss: 5.5605 - accuracy: 0.3160 - val_loss: 4.0805 - val_accuracy: 0.3129\n",
      "Epoch 3/10\n",
      "16/16 [==============================] - 0s 32ms/step - loss: 1.7949 - accuracy: 0.3280 - val_loss: 4.4177 - val_accuracy: 0.3545\n",
      "Epoch 4/10\n",
      "16/16 [==============================] - 0s 31ms/step - loss: 1.7939 - accuracy: 0.3560 - val_loss: 3.2743 - val_accuracy: 0.3931\n",
      "Epoch 5/10\n",
      "16/16 [==============================] - 0s 33ms/step - loss: 1.3424 - accuracy: 0.3540 - val_loss: 3.2754 - val_accuracy: 0.3859\n",
      "Epoch 6/10\n",
      "16/16 [==============================] - 0s 32ms/step - loss: 1.2836 - accuracy: 0.3760 - val_loss: 3.6334 - val_accuracy: 0.4022\n",
      "Epoch 7/10\n",
      "16/16 [==============================] - 0s 33ms/step - loss: 1.3488 - accuracy: 0.3360 - val_loss: 2.9267 - val_accuracy: 0.3763\n",
      "Epoch 8/10\n",
      "16/16 [==============================] - 0s 33ms/step - loss: 1.3175 - accuracy: 0.3760 - val_loss: 2.9219 - val_accuracy: 0.3765\n",
      "Epoch 9/10\n",
      "16/16 [==============================] - 0s 32ms/step - loss: 1.3124 - accuracy: 0.3820 - val_loss: 3.0277 - val_accuracy: 0.4003\n",
      "Epoch 10/10\n",
      "16/16 [==============================] - 1s 33ms/step - loss: 1.2449 - accuracy: 0.4220 - val_loss: 2.9517 - val_accuracy: 0.3931\n"
     ]
    }
   ],
   "source": [
    "# Now unfreeze the top two hidden layers and continue training\n",
    "for layer in new_model2.layers[-3:]:\n",
    "    layer.trainable = True\n",
    "new_model2.compile(loss=\"sparse_categorical_crossentropy\", optimizer=\"sgd\", metrics=[\"accuracy\"])\n",
    "history = new_model2.fit(X_train[:500], y_train[:500], epochs=10, validation_data=(X_test, y_test))\n"
   ]
  },
  {
   "cell_type": "code",
   "execution_count": 42,
   "id": "4405cde4",
   "metadata": {},
   "outputs": [
    {
     "name": "stdout",
     "output_type": "stream",
     "text": [
      "152/152 [==============================] - 0s 3ms/step - loss: 2.9517 - accuracy: 0.3931\n",
      "Test accuracy: 0.39312899112701416\n"
     ]
    }
   ],
   "source": [
    "# Evaluate the trained model again\n",
    "test_loss, test_acc = new_model2.evaluate(X_test, y_test)\n",
    "print(f\"Test accuracy: {test_acc}\")\n"
   ]
  },
  {
   "cell_type": "markdown",
   "id": "c5d5ff27",
   "metadata": {},
   "source": [
    "#### Q3. Pretraining on an auxiliary task.\n",
    "\n",
    "**a. In this exercise you will build a DNN that compares two MNIST digit images and predicts whether they represent the same digit or not. Then you will reuse the lower layers of this network to train an MNIST classifier using very little training data. Start by building two DNNs (let’s call them DNN A and B), both similar to the one you built earlier but without the output layer: each DNN should have five hidden layers of 100 neurons each, He initialization, and ELU activation. Next, add one more hidden layer with 10 units on top of both DNNs. To do this, you should use TensorFlow’s concat() function with axis=1 to concatenate the outputs of both DNNs for each instance, then feed the result to the hidden layer. Finally, add an output layer with a single neuron using the logistic activation function.**\n",
    "\n",
    "**b. Split the MNIST training set in two sets: split #1 should containing 55,000 images, and split #2 should contain contain 5,000 images. Create a function that generates a training batch where each instance is a pair of MNIST images picked from split #1. Half of the training instances should be pairs of images that belong to the same class, while the other half should be images from different classes. For each pair, the training label should be 0 if the images are from the same class, or 1 if they are from different classes.**\n",
    "\n",
    "**c. Train the DNN on this training set. For each image pair, you can simultaneously feed the first image to DNN A and the second image to DNN B. The whole network will gradually learn to tell whether two images belong to the same class or not.**\n",
    "\n",
    "**d. Now create a new DNN by reusing and freezing the hidden layers of DNN A and adding a softmax output layer on top with 10 neurons. Train this network on split #2 and see if you can achieve high performance despite having only 500 images per class.**"
   ]
  },
  {
   "cell_type": "markdown",
   "id": "7e7bc2f3",
   "metadata": {},
   "source": [
    "**Ans**:"
   ]
  },
  {
   "cell_type": "code",
   "execution_count": 43,
   "id": "cd652bcb",
   "metadata": {},
   "outputs": [],
   "source": [
    "import tensorflow as tf\n",
    "from tensorflow import keras\n",
    "import numpy as np"
   ]
  },
  {
   "cell_type": "code",
   "execution_count": 44,
   "id": "7099f10a",
   "metadata": {},
   "outputs": [],
   "source": [
    "# Load the MNIST dataset and split it into two sets\n",
    "(X_train_full, y_train_full), (X_test, y_test) = keras.datasets.mnist.load_data()\n",
    "X_train_full = X_train_full.astype(np.float32) / 255\n",
    "X_test = X_test.astype(np.float32) / 255\n",
    "X_train1 = X_train_full[:55000]\n",
    "y_train1 = y_train_full[:55000]\n",
    "X_train2 = X_train_full[55000:]\n",
    "y_train2 = y_train_full[55000:]"
   ]
  },
  {
   "cell_type": "code",
   "execution_count": 45,
   "id": "b895feed",
   "metadata": {},
   "outputs": [],
   "source": [
    "# Define a function to generate a training batch where each instance is a pair of MNIST images\n",
    "def generate_batch(batch_size):\n",
    "    X_batch1 = np.empty((batch_size, 28, 28), dtype=np.float32)\n",
    "    X_batch2 = np.empty((batch_size, 28, 28), dtype=np.float32)\n",
    "    y_batch = np.empty((batch_size, 1), dtype=np.int32)\n",
    "    for i in range(batch_size):\n",
    "        index1 = np.random.randint(len(X_train1))\n",
    "        X_batch1[i] = X_train1[index1]\n",
    "        if i % 2 == 0:\n",
    "            # Images from the same class\n",
    "            index2 = index1\n",
    "            while index2 == index1:\n",
    "                index2 = np.random.randint(len(X_train1))\n",
    "                if y_train1[index2] == y_train1[index1]:\n",
    "                    break\n",
    "            y_batch[i] = 0\n",
    "        else:\n",
    "            # Images from different classes\n",
    "            index2 = index1\n",
    "            while index2 == index1 or y_train1[index2] == y_train1[index1]:\n",
    "                index2 = np.random.randint(len(X_train1))\n",
    "            y_batch[i] = 1\n",
    "        X_batch2[i] = X_train1[index2]\n",
    "    return [X_batch1, X_batch2], y_batch\n"
   ]
  },
  {
   "cell_type": "code",
   "execution_count": 46,
   "id": "99fb3b48",
   "metadata": {},
   "outputs": [],
   "source": [
    "# Build two DNNs (let’s call them DNN A and B), both similar to the one you built earlier but without the output layer\n",
    "def build_dnn():\n",
    "    model = keras.models.Sequential()\n",
    "    model.add(keras.layers.Flatten(input_shape=[28, 28]))\n",
    "    for _ in range(5):\n",
    "        model.add(keras.layers.Dense(100, activation=\"elu\", kernel_initializer=\"he_normal\"))\n",
    "    return model\n",
    "\n",
    "dnn_a = build_dnn()\n",
    "dnn_b = build_dnn()"
   ]
  },
  {
   "cell_type": "code",
   "execution_count": 47,
   "id": "6a90158d",
   "metadata": {},
   "outputs": [],
   "source": [
    "# Add one more hidden layer with 10 units on top of both DNNs\n",
    "merged_output = keras.layers.concatenate([dnn_a.output, dnn_b.output])\n",
    "hidden_layer = keras.layers.Dense(10, activation=\"elu\", kernel_initializer=\"he_normal\")(merged_output)\n"
   ]
  },
  {
   "cell_type": "code",
   "execution_count": 48,
   "id": "a3ad8524",
   "metadata": {},
   "outputs": [],
   "source": [
    "# Add an output layer with a single neuron using the logistic activation function\n",
    "output_layer = keras.layers.Dense(1, activation=\"sigmoid\")(hidden_layer)\n"
   ]
  },
  {
   "cell_type": "code",
   "execution_count": 49,
   "id": "223d661a",
   "metadata": {},
   "outputs": [],
   "source": [
    "# Create a new model that takes two MNIST images as inputs and outputs a single value representing whether the images belong to the same class or not\n",
    "model = keras.models.Model(inputs=[dnn_a.input, dnn_b.input], outputs=[output_layer])\n"
   ]
  },
  {
   "cell_type": "code",
   "execution_count": 50,
   "id": "211d3cb7",
   "metadata": {},
   "outputs": [],
   "source": [
    "# Compile the model\n",
    "model.compile(loss=\"binary_crossentropy\", optimizer=\"nadam\", metrics=[\"accuracy\"])\n"
   ]
  },
  {
   "cell_type": "code",
   "execution_count": 51,
   "id": "80dbf8fc",
   "metadata": {},
   "outputs": [],
   "source": [
    "# Train the DNN on this training set\n",
    "batch_size = 32\n",
    "for epoch in range(10):\n",
    "    for iteration in range(len(X_train1) // batch_size):\n",
    "        X_batch, y_batch = generate_batch(batch_size)\n",
    "        model.train_on_batch(X_batch, y_batch)\n"
   ]
  },
  {
   "cell_type": "code",
   "execution_count": 52,
   "id": "5a8c7b62",
   "metadata": {},
   "outputs": [],
   "source": [
    "# Create a new DNN by reusing and freezing the hidden layers of DNN A and adding a softmax output layer on top with 10 neurons\n",
    "new_model = keras.models.Sequential(dnn_a.layers[:-1])\n",
    "for layer in new_model.layers:\n",
    "    layer.trainable = False\n",
    "\n",
    "new_model.add(keras.layers.Dense(10, activation=\"softmax\"))\n"
   ]
  },
  {
   "cell_type": "code",
   "execution_count": 53,
   "id": "2b6be1b4",
   "metadata": {},
   "outputs": [],
   "source": [
    "# Compile the new model\n",
    "new_model.compile(loss=\"sparse_categorical_crossentropy\", optimizer=\"nadam\", metrics=[\"accuracy\"])\n"
   ]
  },
  {
   "cell_type": "code",
   "execution_count": 54,
   "id": "11a6e674",
   "metadata": {},
   "outputs": [
    {
     "name": "stdout",
     "output_type": "stream",
     "text": [
      "Epoch 1/10\n",
      "157/157 [==============================] - 1s 3ms/step - loss: 3.1154 - accuracy: 0.0838\n",
      "Epoch 2/10\n",
      "157/157 [==============================] - 0s 3ms/step - loss: 2.2256 - accuracy: 0.1740\n",
      "Epoch 3/10\n",
      "157/157 [==============================] - 0s 3ms/step - loss: 2.0859 - accuracy: 0.2784\n",
      "Epoch 4/10\n",
      "157/157 [==============================] - 0s 3ms/step - loss: 2.0079 - accuracy: 0.3274\n",
      "Epoch 5/10\n",
      "157/157 [==============================] - 1s 4ms/step - loss: 1.9544 - accuracy: 0.3390\n",
      "Epoch 6/10\n",
      "157/157 [==============================] - 1s 4ms/step - loss: 1.9136 - accuracy: 0.3566\n",
      "Epoch 7/10\n",
      "157/157 [==============================] - 1s 3ms/step - loss: 1.8873 - accuracy: 0.3598\n",
      "Epoch 8/10\n",
      "157/157 [==============================] - 1s 3ms/step - loss: 1.8601 - accuracy: 0.3702\n",
      "Epoch 9/10\n",
      "157/157 [==============================] - 1s 3ms/step - loss: 1.8462 - accuracy: 0.3676\n",
      "Epoch 10/10\n",
      "157/157 [==============================] - 0s 3ms/step - loss: 1.8236 - accuracy: 0.3840\n"
     ]
    }
   ],
   "source": [
    "# Train this network on split #2 and see if you can achieve high performance despite having only 500 images per class\n",
    "history = new_model.fit(X_train2, y_train2, epochs=10)\n"
   ]
  },
  {
   "cell_type": "code",
   "execution_count": 55,
   "id": "14924bb7",
   "metadata": {},
   "outputs": [
    {
     "name": "stdout",
     "output_type": "stream",
     "text": [
      "313/313 [==============================] - 1s 3ms/step - loss: 1.8793 - accuracy: 0.3695\n",
      "Test accuracy: 0.3695000112056732\n"
     ]
    }
   ],
   "source": [
    "# Evaluate the trained model on the test set\n",
    "test_loss, test_acc = new_model.evaluate(X_test, y_test)\n",
    "print(f\"Test accuracy: {test_acc}\")\n"
   ]
  },
  {
   "cell_type": "code",
   "execution_count": null,
   "id": "8a1fb90d",
   "metadata": {},
   "outputs": [],
   "source": []
  }
 ],
 "metadata": {
  "kernelspec": {
   "display_name": "Python 3 (ipykernel)",
   "language": "python",
   "name": "python3"
  },
  "language_info": {
   "codemirror_mode": {
    "name": "ipython",
    "version": 3
   },
   "file_extension": ".py",
   "mimetype": "text/x-python",
   "name": "python",
   "nbconvert_exporter": "python",
   "pygments_lexer": "ipython3",
   "version": "3.9.12"
  }
 },
 "nbformat": 4,
 "nbformat_minor": 5
}
