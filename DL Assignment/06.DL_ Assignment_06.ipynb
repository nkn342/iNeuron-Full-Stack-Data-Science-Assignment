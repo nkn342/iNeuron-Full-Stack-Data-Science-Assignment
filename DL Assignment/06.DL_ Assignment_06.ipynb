{
 "cells": [
  {
   "cell_type": "markdown",
   "id": "816be36f",
   "metadata": {},
   "source": [
    "# Assignment 6 Solution"
   ]
  },
  {
   "cell_type": "markdown",
   "id": "d556df64",
   "metadata": {},
   "source": [
    "#### Q1. What are the advantages of a CNN over a fully connected DNN for image classification?"
   ]
  },
  {
   "cell_type": "markdown",
   "id": "cc84b187",
   "metadata": {},
   "source": [
    "**Ans**: Convolutional Neural Networks (CNNs) have several advantages over fully connected Deep Neural Networks (DNNs) for image classification. Here are some of the main advantages:\n",
    "\n",
    "  1. **Parameter efficiency**: CNNs use shared weights and biases for the convolutional layers, which greatly reduces the number of parameters compared to fully connected DNNs. This makes CNNs more efficient for processing large images and reduces the risk of overfitting.\n",
    "\n",
    "  2. **Translation invariance**: CNNs are designed to recognize patterns and features within an image regardless of their location, making them translation invariant. This is achieved through the use of convolutional layers that slide filters over the image to detect patterns in a local area. This property makes CNNs well-suited for image classification tasks where the object of interest can be anywhere in the image.\n",
    "\n",
    "  3. **Hierarchical feature learning**: CNNs use multiple layers of feature extraction to learn hierarchical representations of images. This allows the network to learn high-level concepts, such as object categories, from low-level features, such as edges and corners. In contrast, fully connected DNNs treat all input features as independent and do not capture the spatial relationships between them.\n",
    "\n",
    "  4. **Robustness to input variations**: CNNs are designed to be robust to variations in the input, such as changes in lighting, rotation, and scale. This is achieved through the use of techniques such as pooling, which reduces the sensitivity of the network to small changes in the input.\n",
    "\n",
    "Overall, the advantages of CNNs over fully connected DNNs make them the state-of-the-art approach for image classification tasks."
   ]
  },
  {
   "cell_type": "markdown",
   "id": "2e79b23e",
   "metadata": {},
   "source": [
    "#### Q2. Consider a CNN composed of three convolutional layers, each with 3 × 3 kernels, a stride of 2, and \"same\" padding. The lowest layer outputs 100 feature maps, the middle one outputs 200, and the top one outputs 400. The input images are RGB images of 200 × 300 pixels. \n",
    "\n",
    "#### What is the total number of parameters in the CNN? If we are using 32-bit floats, at least how much RAM will this network require when making a prediction for a single instance? What about when training on a mini-batch of 50 images?"
   ]
  },
  {
   "cell_type": "markdown",
   "id": "9234bb70",
   "metadata": {},
   "source": [
    "**Ans**: To calculate the total number of parameters in the CNN, we need to count the number of parameters in each layer and then sum them up. The number of parameters in a convolutional layer depends on the number of filters, the size of the filters, and the number of input channels. The formula for calculating the number of parameters in a convolutional layer is:\n",
    "\n",
    "`number of parameters = (size of filter * number of input channels + 1) * number of filters`\n",
    "\n",
    "* Using the given information, we can calculate the number of parameters in each convolutional layer:\n",
    "\n",
    "  * The first convolutional layer has 3x3x3x100 + 100 = 2,800 parameters.\n",
    "  * The second convolutional layer has 3x3x100x200 + 200 = 180,200 parameters.\n",
    "  * The third convolutional layer has 3x3x200x400 + 400 = 1,160,400 parameters.\n",
    "\n",
    "Therefore, the total number of parameters in the CNN is 2,800 + 180,200 + 1,160,400 = 1,343,400 parameters.\n",
    "\n",
    "To calculate the amount of RAM required for prediction or training, we need to consider the size of the input and output tensors and the data type being used. Assuming we are using 32-bit floats (4 bytes), the size of the input tensor for a single image is 200x300x3 = 180,000 bytes. The size of the output tensor for a single image is (200/8)x(300/8)x400x4 = 6,000,000 bytes. Therefore, the total RAM required for prediction for a single instance is approximately 6,180,000 bytes (6.18 MB).\n",
    "\n",
    "If we are training on a mini-batch of 50 images, the total RAM required would be 50 times the RAM required for a single instance, which is approximately 309 MB. However, this is just the memory required for storing the input and output tensors during one forward pass of the network. The actual amount of memory required for training will depend on the batch size, the size of the model, the optimizer being used, and other factors."
   ]
  },
  {
   "cell_type": "markdown",
   "id": "80ac3854",
   "metadata": {},
   "source": [
    "#### Q3. If your GPU runs out of memory while training a CNN, what are five things you could try to solve the problem?"
   ]
  },
  {
   "cell_type": "markdown",
   "id": "1d9da072",
   "metadata": {},
   "source": [
    "**Ans**: If your GPU runs out of memory while training a CNN, here are five things you could try to solve the problem:\n",
    "\n",
    "  1. **Decrease batch size**: One of the most effective ways to reduce memory usage is to decrease the batch size. This will reduce the number of samples being processed simultaneously, which in turn reduces the amount of memory required.\n",
    "\n",
    "  2. **Reduce input size**: If the input images are very large, downsampling them to a smaller size can also reduce the memory requirements. However, this may come at the cost of reduced performance or accuracy.\n",
    "\n",
    "  3. **Use mixed precision training**: Using mixed precision training, where the weights and activations are stored using 16-bit floating point numbers instead of 32-bit, can significantly reduce memory usage without sacrificing accuracy.\n",
    "\n",
    "  4. **Reduce model complexity**: Another way to reduce memory usage is to reduce the complexity of the model. This can be done by reducing the number of layers, filters, or neurons in the network, or by using a smaller kernel size.\n",
    "\n",
    "  5. **Use gradient checkpointing**: Gradient checkpointing is a technique that trades off computation time for memory usage. Instead of storing all the intermediate activations during the forward pass for use during the backward pass, only a subset of the activations are stored. This reduces memory usage, but increases computation time during the backward pass.\n",
    "\n",
    "These are just some of the techniques that can be used to reduce memory usage during CNN training. The best approach will depend on the specific model, dataset, and hardware being used, and may require experimentation to find the optimal solution."
   ]
  },
  {
   "cell_type": "markdown",
   "id": "e84571d7",
   "metadata": {},
   "source": [
    "#### Q4. Why would you want to add a max pooling layer rather than a convolutional layer with the same stride?"
   ]
  },
  {
   "cell_type": "markdown",
   "id": "cc192a9b",
   "metadata": {},
   "source": [
    "**Ans**: Max pooling layers and convolutional layers with the same stride both reduce the spatial resolution of the feature maps. However, there are some reasons why one might want to use max pooling instead of convolution:\n",
    "\n",
    "  1. **Non-linearity**: Max pooling introduces a non-linear activation function that can help the network learn more complex features. In contrast, a convolutional layer with the same stride only applies a linear transformation to the input.\n",
    "\n",
    "  2. **Translation invariance**: Max pooling is more translation invariant than convolution with stride. This means that the features learned by the network are less sensitive to small shifts in the input image, which can improve the robustness of the network to small variations in the data.\n",
    "\n",
    "  3. **Computational efficiency**: Max pooling is computationally more efficient than convolution with the same stride because it does not require any learnable parameters.\n",
    "\n",
    "  4. **Reduce overfitting**: Max pooling can be used to reduce overfitting by reducing the spatial resolution of the feature maps and introducing some degree of spatial invariance.\n",
    "\n",
    "Overall, max pooling can be a useful tool for reducing the spatial resolution of feature maps while introducing non-linearity, translation invariance, and computational efficiency. However, the choice between max pooling and convolution with the same stride will depend on the specific requirements of the model and the data."
   ]
  },
  {
   "cell_type": "markdown",
   "id": "1e7bef67",
   "metadata": {},
   "source": [
    "#### Q5. When would you want to add a local response normalization layer?"
   ]
  },
  {
   "cell_type": "markdown",
   "id": "813f0304",
   "metadata": {},
   "source": [
    "**Ans**: A local response normalization (LRN) layer can be added to a CNN to improve its generalization performance by promoting competition among feature maps. The main purpose of LRN is to normalize the response of a neuron by dividing it by the sum of squares of its neighboring activations.\n",
    "\n",
    "Here are some scenarios when one may want to add a local response normalization layer to a CNN:\n",
    "\n",
    "1. **Large-scale datasets:** LRN is more effective on large-scale datasets as it helps the network generalize better and reduce overfitting. When working with large-scale datasets, adding an LRN layer can improve the performance of the network.\n",
    "\n",
    "2. **Convolutional layers with large receptive fields**: When the receptive field of a convolutional layer is large, there is a high chance that some feature maps will respond strongly to stimuli that are irrelevant to the target object. In such cases, LRN can help the network suppress the irrelevant feature maps and promote the relevant ones.\n",
    "\n",
    "3. **Networks with multiple convolutional layers**: When working with CNNs with multiple convolutional layers, adding an LRN layer can help the network learn more robust features by encouraging competition among feature maps. This can help prevent the network from overfitting to the training data.\n",
    "\n",
    "4. **Image classification tasks**: LRN has been shown to be particularly effective in improving the performance of CNNs on image classification tasks. It can help the network learn more discriminative features, which in turn can improve its classification accuracy.\n",
    "\n",
    "Overall, adding a local response normalization layer to a CNN can be useful in scenarios where there is a need to improve the generalization performance of the network or promote competition among feature maps. However, the decision to add an LRN layer will depend on the specific requirements of the model and the data."
   ]
  },
  {
   "cell_type": "markdown",
   "id": "02349395",
   "metadata": {},
   "source": [
    "#### Q6. Can you name the main innovations in AlexNet, compared to LeNet-5? What about the main innovations in GoogLeNet, ResNet, SENet, and Xception?"
   ]
  },
  {
   "cell_type": "markdown",
   "id": "e093b1c0",
   "metadata": {},
   "source": [
    "**Ans**: here are the main innovations in each of the listed models:\n",
    "\n",
    "**`AlexNet:`**\n",
    "\n",
    "* AlexNet was one of the first successful deep convolutional neural networks for image classification.\n",
    "* It had 5 convolutional layers and 3 fully connected layers.\n",
    "* AlexNet used Rectified Linear Units (ReLU) activation function instead of the traditional sigmoid activation function used in LeNet-5.\n",
    "* It also used data augmentation techniques such as cropping and flipping to reduce overfitting and increase the size of the training dataset.\n",
    "* AlexNet used dropout regularization to further reduce overfitting.\n",
    "* AlexNet was trained on two GPUs simultaneously, which reduced the training time significantly.\n",
    "\n",
    "**`GoogLeNet:`**\n",
    "\n",
    "* GoogLeNet introduced the concept of Inception modules, which allowed for the efficient use of multiple filter sizes in a single layer.\n",
    "* It had 22 layers and was the first network to exceed human-level performance on the ImageNet classification task.\n",
    "* GoogLeNet also used global average pooling instead of fully connected layers, which significantly reduced the number of parameters in the network.\n",
    "* It used a 1x1 convolutional layer to reduce the dimensionality of the feature maps before applying more computationally expensive convolutional layers.\n",
    "\n",
    "**`ResNet:`**\n",
    "\n",
    "* ResNet introduced the concept of residual blocks, which allowed for the training of very deep networks without suffering from the problem of vanishing gradients.\n",
    "* It had up to 152 layers and achieved state-of-the-art performance on several computer vision tasks.\n",
    "* ResNet used skip connections to connect earlier layers directly to later layers, which helped to propagate gradients more effectively during training.\n",
    "* It also used batch normalization to accelerate training and improve generalization.\n",
    "\n",
    "**`SENet:`**\n",
    "\n",
    "* SENet introduced the concept of Squeeze-and-Excitation (SE) blocks, which allowed the network to adaptively recalibrate the importance of each feature map based on the global context of the image.\n",
    "* It achieved state-of-the-art performance on several computer vision tasks.\n",
    "* SENet used a global average pooling layer to reduce the dimensionality of the feature maps before applying the SE blocks.\n",
    "* It also used residual connections to help propagate gradients more effectively during training.\n",
    "\n",
    "**`Xception:`**\n",
    "\n",
    "* Xception introduced the concept of depthwise separable convolutions, which separate the spatial filtering and channel-wise filtering operations.\n",
    "* It had fewer parameters and was more computationally efficient than other state-of-the-art models while achieving comparable or better performance.\n",
    "* Xception used residual connections and batch normalization to accelerate training and improve generalization.\n",
    "* It also used global average pooling instead of fully connected layers to reduce the number of parameters in the network.\n",
    "* These are just a few of the innovations introduced in each of these models. There have been many other contributions to the field of deep learning for computer vision, each building upon the successes of the previous models."
   ]
  },
  {
   "cell_type": "markdown",
   "id": "0eccf18e",
   "metadata": {},
   "source": [
    "#### Q7. What is a fully convolutional network? How can you convert a dense layer into a convolutional layer?"
   ]
  },
  {
   "cell_type": "markdown",
   "id": "691e824d",
   "metadata": {},
   "source": [
    "**Ans**: A fully convolutional network (FCN) is a neural network architecture that consists entirely of convolutional layers, and no fully connected layers. FCNs are commonly used in image segmentation tasks, where the output is a pixel-wise classification map instead of a single label.\n",
    "\n",
    "To convert a dense layer into a convolutional layer, we need to ensure that the output shape of the convolutional layer is the same as the output shape of the dense layer. We can achieve this by reshaping the weights of the dense layer into the shape of a convolutional kernel.\n",
    "\n",
    "For example, suppose we have a dense layer with 512 units that takes as input a feature map of size 7x7x256, and we want to convert it into a convolutional layer with a 3x3 kernel. We can do this as follows:\n",
    "\n",
    "1. Reshape the weight matrix of the dense layer to have shape (3, 3, 256, 512). This will create a 3x3 convolutional kernel with 256 input channels and 512 output channels.\n",
    "\n",
    "2. Reshape the output of the previous convolutional layer to have shape (batch_size, 7, 7, 256). This is the same shape as the input to the dense layer.\n",
    "\n",
    "3. Apply the convolution operation with the reshaped kernel to the output of the previous convolutional layer. The output of this operation will have shape (batch_size, 5, 5, 512), which is the same as the output of the dense layer.\n",
    "\n",
    "By converting a dense layer into a convolutional layer in this way, we can include it in a fully convolutional network and take advantage of the benefits of convolutional layers, such as weight sharing and translation invariance."
   ]
  },
  {
   "cell_type": "markdown",
   "id": "34236eb7",
   "metadata": {},
   "source": [
    "#### Q8. What is the main technical difficulty of semantic segmentation?"
   ]
  },
  {
   "cell_type": "markdown",
   "id": "e7a837df",
   "metadata": {},
   "source": [
    "**Ans**: The main technical difficulty of semantic segmentation is to accurately classify each pixel in an image into one of the pre-defined classes (e.g. person, car, tree, sky, etc.). This is a challenging task because it requires the network to learn both the spatial information and the semantic information of the image.\n",
    "\n",
    "Spatial information refers to the location and arrangement of objects in the image, which is important for distinguishing between adjacent objects or objects that overlap. Semantic information refers to the high-level concepts and meaning of the objects in the image, which is important for distinguishing between objects of the same type (e.g. different types of trees).\n",
    "\n",
    "Another difficulty is handling the class imbalance problem, where some classes have much fewer pixels than others. This can lead to a bias towards the majority classes and poor performance on minority classes.\n",
    "\n",
    "To overcome these difficulties, various techniques have been proposed, including the use of encoder-decoder architectures, skip connections, multi-scale features, dilated convolutions, and data augmentation."
   ]
  },
  {
   "cell_type": "markdown",
   "id": "b71d7922",
   "metadata": {},
   "source": [
    "#### Q9. Build your own CNN from scratch and try to achieve the highest possible accuracy on MNIST."
   ]
  },
  {
   "cell_type": "markdown",
   "id": "51cceb3c",
   "metadata": {},
   "source": [
    "**Ans:**"
   ]
  },
  {
   "cell_type": "code",
   "execution_count": 3,
   "id": "da707979",
   "metadata": {},
   "outputs": [],
   "source": [
    "import tensorflow as tf\n",
    "from tensorflow.keras import layers"
   ]
  },
  {
   "cell_type": "code",
   "execution_count": 4,
   "id": "c03314ed",
   "metadata": {},
   "outputs": [],
   "source": [
    "# Load the MNIST dataset\n",
    "(x_train, y_train), (x_test, y_test) = tf.keras.datasets.mnist.load_data()\n"
   ]
  },
  {
   "cell_type": "code",
   "execution_count": 5,
   "id": "5a7b5603",
   "metadata": {},
   "outputs": [],
   "source": [
    "# Normalize the pixel values to the range [0, 1]\n",
    "x_train = x_train.astype(\"float32\") / 255.0\n",
    "x_test = x_test.astype(\"float32\") / 255.0\n"
   ]
  },
  {
   "cell_type": "code",
   "execution_count": 6,
   "id": "19559bae",
   "metadata": {},
   "outputs": [],
   "source": [
    "# Add a channel dimension to the images\n",
    "x_train = x_train[..., tf.newaxis]\n",
    "x_test = x_test[..., tf.newaxis]\n"
   ]
  },
  {
   "cell_type": "code",
   "execution_count": 8,
   "id": "b217bbfd",
   "metadata": {},
   "outputs": [],
   "source": [
    "# Define the model architecture\n",
    "model = tf.keras.Sequential([\n",
    "    layers.Conv2D(32, 3, activation='relu', input_shape=(28, 28, 1)),\n",
    "    layers.MaxPooling2D(),\n",
    "    layers.Conv2D(64, 3, activation='relu'),\n",
    "    layers.MaxPooling2D(),\n",
    "    layers.Flatten(),\n",
    "    layers.Dense(128, activation='relu'),\n",
    "    layers.Dropout(0.5),\n",
    "    layers.Dense(10)\n",
    "])"
   ]
  },
  {
   "cell_type": "code",
   "execution_count": 10,
   "id": "0ca6f389",
   "metadata": {},
   "outputs": [],
   "source": [
    "# Compile the model\n",
    "model.compile(optimizer='adam',\n",
    "              loss=tf.keras.losses.SparseCategoricalCrossentropy(from_logits=True),\n",
    "              metrics=['accuracy'])"
   ]
  },
  {
   "cell_type": "code",
   "execution_count": 11,
   "id": "081b4284",
   "metadata": {},
   "outputs": [
    {
     "name": "stdout",
     "output_type": "stream",
     "text": [
      "Epoch 1/10\n",
      "WARNING:tensorflow:From C:\\Users\\Dell\\anaconda3\\lib\\site-packages\\keras\\src\\utils\\tf_utils.py:492: The name tf.ragged.RaggedTensorValue is deprecated. Please use tf.compat.v1.ragged.RaggedTensorValue instead.\n",
      "\n",
      "WARNING:tensorflow:From C:\\Users\\Dell\\anaconda3\\lib\\site-packages\\keras\\src\\engine\\base_layer_utils.py:384: The name tf.executing_eagerly_outside_functions is deprecated. Please use tf.compat.v1.executing_eagerly_outside_functions instead.\n",
      "\n",
      "1875/1875 [==============================] - 36s 18ms/step - loss: 0.2102 - accuracy: 0.9357 - val_loss: 0.0443 - val_accuracy: 0.9859\n",
      "Epoch 2/10\n",
      "1875/1875 [==============================] - 32s 17ms/step - loss: 0.0753 - accuracy: 0.9775 - val_loss: 0.0353 - val_accuracy: 0.9886\n",
      "Epoch 3/10\n",
      "1875/1875 [==============================] - 32s 17ms/step - loss: 0.0582 - accuracy: 0.9829 - val_loss: 0.0325 - val_accuracy: 0.9898\n",
      "Epoch 4/10\n",
      "1875/1875 [==============================] - 33s 17ms/step - loss: 0.0464 - accuracy: 0.9856 - val_loss: 0.0265 - val_accuracy: 0.9917\n",
      "Epoch 5/10\n",
      "1875/1875 [==============================] - 32s 17ms/step - loss: 0.0384 - accuracy: 0.9879 - val_loss: 0.0257 - val_accuracy: 0.9922\n",
      "Epoch 6/10\n",
      "1875/1875 [==============================] - 32s 17ms/step - loss: 0.0329 - accuracy: 0.9898 - val_loss: 0.0355 - val_accuracy: 0.9888\n",
      "Epoch 7/10\n",
      "1875/1875 [==============================] - 32s 17ms/step - loss: 0.0287 - accuracy: 0.9914 - val_loss: 0.0274 - val_accuracy: 0.9920\n",
      "Epoch 8/10\n",
      "1875/1875 [==============================] - 34s 18ms/step - loss: 0.0267 - accuracy: 0.9913 - val_loss: 0.0282 - val_accuracy: 0.9919\n",
      "Epoch 9/10\n",
      "1875/1875 [==============================] - 33s 18ms/step - loss: 0.0236 - accuracy: 0.9922 - val_loss: 0.0256 - val_accuracy: 0.9924\n",
      "Epoch 10/10\n",
      "1875/1875 [==============================] - 32s 17ms/step - loss: 0.0205 - accuracy: 0.9936 - val_loss: 0.0292 - val_accuracy: 0.9921\n"
     ]
    }
   ],
   "source": [
    "# Train the model\n",
    "history = model.fit(x_train, y_train, epochs=10, validation_data=(x_test, y_test))\n"
   ]
  },
  {
   "cell_type": "code",
   "execution_count": 12,
   "id": "ba712077",
   "metadata": {},
   "outputs": [
    {
     "name": "stdout",
     "output_type": "stream",
     "text": [
      "313/313 - 2s - loss: 0.0292 - accuracy: 0.9921 - 2s/epoch - 6ms/step\n",
      "\n",
      "Test accuracy: 0.9921000003814697\n"
     ]
    }
   ],
   "source": [
    "# Evaluate the model on the test set\n",
    "test_loss, test_acc = model.evaluate(x_test,  y_test, verbose=2)\n",
    "print('\\nTest accuracy:', test_acc)"
   ]
  },
  {
   "cell_type": "code",
   "execution_count": null,
   "id": "21d1c3e6",
   "metadata": {},
   "outputs": [],
   "source": []
  }
 ],
 "metadata": {
  "kernelspec": {
   "display_name": "Python 3 (ipykernel)",
   "language": "python",
   "name": "python3"
  },
  "language_info": {
   "codemirror_mode": {
    "name": "ipython",
    "version": 3
   },
   "file_extension": ".py",
   "mimetype": "text/x-python",
   "name": "python",
   "nbconvert_exporter": "python",
   "pygments_lexer": "ipython3",
   "version": "3.9.12"
  }
 },
 "nbformat": 4,
 "nbformat_minor": 5
}
