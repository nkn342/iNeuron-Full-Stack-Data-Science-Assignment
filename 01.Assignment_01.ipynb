{
 "cells": [
  {
   "cell_type": "markdown",
   "id": "949ed615",
   "metadata": {},
   "source": [
    "\n",
    "# Assignment 1 Solution"
   ]
  },
  {
   "cell_type": "markdown",
   "id": "5963e6e8",
   "metadata": {},
   "source": [
    "#### 1. In the below elements which of them are values or an expression? eg:- values can be integer or string and expressions will be mathematical operators. \n",
    "\n",
    "##### * , 'hello' , -87.8 , / , + , 6 "
   ]
  },
  {
   "cell_type": "markdown",
   "id": "f3c098b6",
   "metadata": {},
   "source": [
    "**Ans**: There are a total of 4 Operators and 3 expressions, These are:\n",
    "        \n",
    "Operators: * , -, /, +\n",
    "    \n",
    "Expressions: 'hello', 87.8, 6"
   ]
  },
  {
   "cell_type": "markdown",
   "id": "31649101",
   "metadata": {},
   "source": [
    "#### 2. What is the difference between string and variable?"
   ]
  },
  {
   "cell_type": "markdown",
   "id": "794576f6",
   "metadata": {},
   "source": [
    "**Ans**:A Variable is used to store of information , and a String is a type of information you would store in a variable. A String is a group of characters or a single charater usually enclosed in double qoutes \" \" or single quotes ' '."
   ]
  },
  {
   "cell_type": "markdown",
   "id": "832862e7",
   "metadata": {},
   "source": [
    "#### 3. Describe three different Data Types ?"
   ]
  },
  {
   "cell_type": "code",
   "execution_count": 5,
   "id": "4efadf7d",
   "metadata": {},
   "outputs": [
    {
     "name": "stdout",
     "output_type": "stream",
     "text": [
      "5765 <class 'int'>\n",
      "15.25 <class 'float'>\n",
      "(5+7j) <class 'complex'>\n"
     ]
    }
   ],
   "source": [
    "#Ans: Three Data types in Python are #int Data type , #float Data type, #complex Data types.\n",
    "    \n",
    "    #1.int Data type: We use int data type to represent whole numbers(integral values).\n",
    "    #eg:\n",
    "int=5765\n",
    "print( int, type(int))\n",
    "    #2.float Data type: We can use float data type to represent floating point values (decimal values).\n",
    "    #eg:\n",
    "float=15.25\n",
    "print( float, type(float))\n",
    "    #3.complex data type: Complex number is represented by complex class. It is specified as (real part) + (imaginary part)j.\n",
    "    #eg:\n",
    "complex=5+7j\n",
    "print(complex, type(complex))"
   ]
  },
  {
   "cell_type": "markdown",
   "id": "08f2c205",
   "metadata": {},
   "source": [
    "#### 4. What is an expression made up of? What do all expressions do?"
   ]
  },
  {
   "cell_type": "code",
   "execution_count": 6,
   "id": "dfc30477",
   "metadata": {},
   "outputs": [
    {
     "data": {
      "text/plain": [
       "0"
      ]
     },
     "execution_count": 6,
     "metadata": {},
     "output_type": "execute_result"
    }
   ],
   "source": [
    "#Ans: An expression is a combination of values, variables, operators, and calls to functions. Expressions need to be evaluated. If we ask Python to print an expression, the interpreter evaluates the expression and displays the result.\n",
    "2*10+30-50 # Is an Expression, The Python Interpreter Evaluates it to 0"
   ]
  },
  {
   "cell_type": "markdown",
   "id": "2bc83a30",
   "metadata": {},
   "source": [
    "#### 5.This assignment statements, like spam = 10. What is the difference between an expression and a statement?"
   ]
  },
  {
   "cell_type": "markdown",
   "id": "b35b5ac2",
   "metadata": {},
   "source": [
    "**Ans**: An expression is a combination of values, variables, and operators.When we type an expression at the prompt, the interpreter evaluates it, which means that it finds the value of the expression.\n",
    "\n",
    "eg: 2*10+30-50 is an example of a statement\n",
    "\n",
    "A statement is a unit of code that has an effect, like creating a variable or displaying a value.When we type a statement, the interpreter executes it, which means that it does whatever the statement says. In general, statements don’t have values.\n",
    "\n",
    "eg: variable declaration and assignment are statements because they do not return a value.\n"
   ]
  },
  {
   "cell_type": "code",
   "execution_count": 10,
   "id": "07ed4662",
   "metadata": {},
   "outputs": [
    {
     "name": "stdout",
     "output_type": "stream",
     "text": [
      "Hello World !\n"
     ]
    }
   ],
   "source": [
    "#Example:\n",
    "2*10+30-50 # Is a Expression\n",
    "courseName = 'INeuron FullStack DataScience Bootcamp' # Is a Statement\n",
    "print(\"Hello World !\") # Is a Expression Statement"
   ]
  },
  {
   "cell_type": "markdown",
   "id": "0b8b348c",
   "metadata": {},
   "source": [
    "#### 6.After running the following code, what does the variable bacon contain?\n",
    "\n",
    "bacon = 22\n",
    "\n",
    "bacon + 1"
   ]
  },
  {
   "cell_type": "markdown",
   "id": "55b0a6a5",
   "metadata": {},
   "source": [
    "**Ans**: The variable bacon is set to 22 .The expression bacon + 1 does not reassign the value in bacon (that would the case if the expression is like bacon = bacon + 1 instead of bacon + 1)"
   ]
  },
  {
   "cell_type": "code",
   "execution_count": 15,
   "id": "1fc5de2d",
   "metadata": {},
   "outputs": [
    {
     "name": "stdout",
     "output_type": "stream",
     "text": [
      "22\n"
     ]
    }
   ],
   "source": [
    "#Example Case-1\n",
    "bacon=22\n",
    "bacon+1\n",
    "print(bacon)"
   ]
  },
  {
   "cell_type": "code",
   "execution_count": 16,
   "id": "b8b54cc3",
   "metadata": {},
   "outputs": [
    {
     "name": "stdout",
     "output_type": "stream",
     "text": [
      "23\n"
     ]
    }
   ],
   "source": [
    "#Example Case-2\n",
    "bacon=22\n",
    "bacon=bacon+1\n",
    "print(bacon)"
   ]
  },
  {
   "cell_type": "markdown",
   "id": "226b2892",
   "metadata": {},
   "source": [
    "#### 7.What should the values of the following two terms be?\n",
    "   `'spam'+'spamspam'`\n",
    "   \n",
    "   `'spam'*3`"
   ]
  },
  {
   "cell_type": "code",
   "execution_count": 17,
   "id": "650a6fd8",
   "metadata": {},
   "outputs": [
    {
     "name": "stdout",
     "output_type": "stream",
     "text": [
      "spamspamspam\n",
      "spamspamspam\n"
     ]
    }
   ],
   "source": [
    "#Ans: Both expressions evaluate to the string 'spamspamspam' Where as the first expression follows String Concatentation and the second expression follows String Multiplication.\n",
    "print('spam'+'spamspam') #string concatentation\n",
    "print('spam'*3) #string multiplication"
   ]
  },
  {
   "cell_type": "markdown",
   "id": "085ba7fb",
   "metadata": {},
   "source": [
    "#### 8. Why is eggs a valid variable name while 100 is invalid?"
   ]
  },
  {
   "cell_type": "markdown",
   "id": "363288ed",
   "metadata": {},
   "source": [
    "**Ans**: AS per python variable names cannot begin with a number. The pyhton rules for naming a variable are :\n",
    "       \n",
    "    1.Variable name must start with a letter or the underscore character.\n",
    "    \n",
    "    2.Variable name cannot start with a number.\n",
    "      \n",
    "    3.Variable name can only contain alpha-numeric characters and underscores (A-z, 0-9, & _ ).\n",
    "    \n",
    "    4.Variable names are case-sensitive (iNeuron, INEURON and ineuron are three different variables).\n",
    "    \n",
    "    5.The reserved words(keywords) cannot be used naming the variable."
   ]
  },
  {
   "cell_type": "code",
   "execution_count": 19,
   "id": "fc4877d1",
   "metadata": {},
   "outputs": [
    {
     "ename": "SyntaxError",
     "evalue": "cannot assign to literal (3326509962.py, line 2)",
     "output_type": "error",
     "traceback": [
      "\u001b[1;36m  Input \u001b[1;32mIn [19]\u001b[1;36m\u001b[0m\n\u001b[1;33m    100='hello' # Invalid Variable Initilization\u001b[0m\n\u001b[1;37m    ^\u001b[0m\n\u001b[1;31mSyntaxError\u001b[0m\u001b[1;31m:\u001b[0m cannot assign to literal\n"
     ]
    }
   ],
   "source": [
    "egg='iNeuron' # Valid variable Initilization\n",
    "100='hello' # Invalid Variable Initilization\n",
    "print(egg) #prints the value of egg ie iNeuron\n",
    "print(100) # Raises a Syntax Error as 100 is not a valid variable name"
   ]
  },
  {
   "cell_type": "code",
   "execution_count": 20,
   "id": "4c685249",
   "metadata": {},
   "outputs": [
    {
     "name": "stdout",
     "output_type": "stream",
     "text": [
      "iNeuron\n",
      "hello\n"
     ]
    }
   ],
   "source": [
    "#whereas \n",
    "egg='iNeuron' # Valid variable Initilization\n",
    "_100='hello' #valid variable Initilization\n",
    "print(egg) #prints the value of egg ie iNeuron\n",
    "print(_100) # Raises a Syntax Error as 100 is not a valid variable name"
   ]
  },
  {
   "cell_type": "markdown",
   "id": "9802ddb7",
   "metadata": {},
   "source": [
    "#### 9.What three functions can be used to get the integer,floating-point number,or string version of a value?"
   ]
  },
  {
   "cell_type": "markdown",
   "id": "74d0e893",
   "metadata": {},
   "source": [
    "**Ans**: The int(),float(),and str() functions will evaluate to the integer,floating-point number,string version of the value passed to them."
   ]
  },
  {
   "cell_type": "code",
   "execution_count": 2,
   "id": "3160ab01",
   "metadata": {},
   "outputs": [
    {
     "name": "stdout",
     "output_type": "stream",
     "text": [
      "int(10.0) ->  10\n",
      "float(10.0) ->  10.0\n",
      "str(10.0) ->  10.0\n"
     ]
    }
   ],
   "source": [
    "#Example:\n",
    "print('int(10.0) -> ',int(10.0)) # int() function converts given input to int\n",
    "print('float(10.0) -> ',float(10.0)) # float() function converts given input to float\n",
    "print('str(10.0) -> ',str(10.0)) # str() function converts given input to string\n"
   ]
  },
  {
   "cell_type": "markdown",
   "id": "b8cb569d",
   "metadata": {},
   "source": [
    "#### 10.Why does this expression cause an error? how can you fix it?\n",
    "`'I have eaten ' + 99 + 'burritos.'`"
   ]
  },
  {
   "cell_type": "markdown",
   "id": "655e6c46",
   "metadata": {},
   "source": [
    "**Ans***: This cause of error is 99.because 99 is not a string. 99 must be typecasted to a string to fix this error. the correct way is:\n",
    "Input: 'I have eaten ' + str(99) + 'burritos.'\n",
    "Output: 'I have eaten 99 burritos.'\n"
   ]
  },
  {
   "cell_type": "code",
   "execution_count": 21,
   "id": "e9e6bdd8",
   "metadata": {},
   "outputs": [
    {
     "name": "stdout",
     "output_type": "stream",
     "text": [
      "I have eaten 99 burritos\n"
     ]
    }
   ],
   "source": [
    "print('I have eaten '+str(99)+' burritos')"
   ]
  },
  {
   "cell_type": "code",
   "execution_count": null,
   "id": "c728a759",
   "metadata": {},
   "outputs": [],
   "source": []
  }
 ],
 "metadata": {
  "kernelspec": {
   "display_name": "Python 3 (ipykernel)",
   "language": "python",
   "name": "python3"
  },
  "language_info": {
   "codemirror_mode": {
    "name": "ipython",
    "version": 3
   },
   "file_extension": ".py",
   "mimetype": "text/x-python",
   "name": "python",
   "nbconvert_exporter": "python",
   "pygments_lexer": "ipython3",
   "version": "3.9.12"
  }
 },
 "nbformat": 4,
 "nbformat_minor": 5
}
