{
 "cells": [
  {
   "cell_type": "markdown",
   "id": "ac8fa011",
   "metadata": {},
   "source": [
    "# Assignment 09 Solutions"
   ]
  },
  {
   "cell_type": "markdown",
   "id": "dc6f7748",
   "metadata": {},
   "source": [
    "#### Q1. What is feature engineering, and how does it work? Explain the various aspects of feature engineering in depth."
   ]
  },
  {
   "cell_type": "markdown",
   "id": "f9708bdd",
   "metadata": {},
   "source": [
    "**Ans**: Feature engineering is the process of selecting, manipulating, and transforming raw data into features that can be used in supervised learning. In order to make machine learning work well on new tasks, it might be necessary to design and train better features.\n",
    "\n",
    "Feature engineering in ML consists of four main steps: Feature Creation, Transformations, Feature Extraction, and Feature Selection. Feature engineering consists of creation, transformation, extraction, and selection of features, also known as variables, that are most conducive to creating an accurate ML algorithm."
   ]
  },
  {
   "cell_type": "markdown",
   "id": "4763a3c8",
   "metadata": {},
   "source": [
    "#### Q2. What is feature selection, and how does it work? What is the aim of it? What are the various methods of function selection?"
   ]
  },
  {
   "cell_type": "markdown",
   "id": "de2b474a",
   "metadata": {},
   "source": [
    "**Ans**: Feature Selection is the process where you automatically or manually select those features which contribute most to your prediction variable or output in which you are interested in. Having irrelevant features in your data can decrease the accuracy of the models and make your model learn based on irrelevant features.\n",
    "\n",
    "**There are three types of feature selection**:\n",
    "\n",
    "* **`Wrapper methods`** (forward, backward, and stepwise selection)\n",
    "* **`Filter methods`** (ANOVA, Pearson correlation, variance thresholding)\n",
    "* **`Embedded methods`** (Lasso, Ridge, Decision Tree)."
   ]
  },
  {
   "cell_type": "markdown",
   "id": "d30821b5",
   "metadata": {},
   "source": [
    "#### Q3. Describe the function selection filter and wrapper approaches. State the pros and cons of each approach?"
   ]
  },
  {
   "cell_type": "markdown",
   "id": "cd610f4e",
   "metadata": {},
   "source": [
    "**Ans**: The main differences between the filter and wrapper methods for feature selection are: Filter methods measure the relevance of features by their correlation with dependent variable while wrapper methods measure the usefulness of a subset of feature by actually training a model on it.\n",
    "\n",
    "The filter method has the fastest running time; however, it does not consider feature dependencies and tends to each feature separately when univariate techniques are used. The wrapper method has the advantages of better generalization and robust interaction with the classifier used for feature selection"
   ]
  },
  {
   "cell_type": "markdown",
   "id": "202a2c5c",
   "metadata": {},
   "source": [
    "#### Q4. Please Answer the following Questions :\n",
    "1. Describe the overall feature selection process.\n",
    "2. Explain the key underlying principle of feature extraction using an example. What are the most widely used function extraction algorithms?"
   ]
  },
  {
   "cell_type": "markdown",
   "id": "03d25e01",
   "metadata": {},
   "source": [
    "**Ans**: Feature selection is the process of reducing the number of input variables when developing a predictive model. It is desirable to reduce the number of input variables to both reduce the computational cost of modeling and, in some cases, to improve the performance of the model."
   ]
  },
  {
   "cell_type": "markdown",
   "id": "bdb42575",
   "metadata": {},
   "source": [
    "#### Q5. Describe the feature engineering process in the sense of a text categorization issue."
   ]
  },
  {
   "cell_type": "markdown",
   "id": "ecb254fe",
   "metadata": {},
   "source": [
    "**Ans**: Text classification is the problem of assigning categories to text data according to its content. The most important part of text classification is feature engineering: the process of creating features for a machine learning model from raw text data."
   ]
  },
  {
   "cell_type": "markdown",
   "id": "8d826dd9",
   "metadata": {},
   "source": [
    "#### Q6. What makes cosine similarity a good metric for text categorization? A document-term matrix has two rows with values of `(2, 3, 2, 0, 2, 3, 3, 0, 1)` and `(2, 1, 0, 0, 3, 2, 1, 3, 1)`. Find the resemblance in cosine."
   ]
  },
  {
   "cell_type": "markdown",
   "id": "1a60c31f",
   "metadata": {},
   "source": [
    "**Ans**: Cosine similarity is a metric used to measure how similar the documents are irrespective of their size. The cosine similarity is advantageous because even if the two similar documents are far apart by the Euclidean distance (due to the size of the document), chances are they may still be oriented closer together.\n",
    "\n",
    "Cosine similarity is the cosine of the angle between two n-dimensional vectors in an n-dimensional space. It is the dot product of the two vectors divided by the product of the two vectors' lengths (or magnitudes)."
   ]
  },
  {
   "cell_type": "markdown",
   "id": "0e987334",
   "metadata": {},
   "source": [
    "#### Q7. Explain the following:\n",
    "1. What is the formula for calculating Hamming distance? Between `10001011` and `11001111`, calculate the Hamming gap.\n",
    "2. Compare the Jaccard index and similarity matching coefficient of two features with values `(1,1,0,0,1,0,1,1)` and `(1,1,0,0, 0,1,1,1)`, respectively `(1,0,0,1,1,0,0,1)`."
   ]
  },
  {
   "cell_type": "markdown",
   "id": "406999fa",
   "metadata": {},
   "source": [
    "**Ans**: Thus the Hamming distance between two vectors is the number of bits we must change to change one into the other. Example Find the distance between the vectors `01101010` and `11011011`. They differ in four places, so the Hamming distance `d(01101010,11011011) = 4`."
   ]
  },
  {
   "cell_type": "markdown",
   "id": "dfbf22d3",
   "metadata": {},
   "source": [
    "#### Q8. State what is meant by \"high-dimensional data set\"? Could you offer a few real-life examples? What are the difficulties in using machine learning techniques on a data set with many dimensions? What can be done about it?"
   ]
  },
  {
   "cell_type": "markdown",
   "id": "32467e08",
   "metadata": {},
   "source": [
    "**Ans**: High dimension is when variable numbers p is higher than the sample sizes n i.e. p>n, cases. High dimensional data is referred to a data of n samples with p features, where p is larger than n.\n",
    "\n",
    "For example, tomographic imaging data, ECG data, and MEG data. One example of high dimensional data is microarray gene expression data."
   ]
  },
  {
   "cell_type": "markdown",
   "id": "1cdeca41",
   "metadata": {},
   "source": [
    "#### Q9. Make a few quick notes on:\n",
    "1. PCA is an acronym for Personal Computer Analysis.\n",
    "2. Use of vectors\n",
    "3. Embedded technique"
   ]
  },
  {
   "cell_type": "markdown",
   "id": "4da3bcfd",
   "metadata": {},
   "source": [
    "**Ans**: \n",
    "1. **PCA is an acronym for Personal Computer Analysis**:The Principal component analysis (PCA) is a technique used for identification of a smaller number of uncorrelated variables known as principal components from a larger set of data. The technique is widely used to emphasize variation and capture strong patterns in a data set.\n",
    "\n",
    "2. **Use of vectors**:Vectors can be used to represent physical quantities. Most commonly in physics, vectors are used to represent displacement, velocity, and acceleration. Vectors are a combination of magnitude and direction, and are drawn as arrows\n",
    "\n",
    "3. **Embedded technique**:In the context of machine learning, an embedding is a low-dimensional, learned continuous vector representation of discrete variables into which you can translate high-dimensional vectors. Generally, embeddings make ML models more efficient and easier to work with, and can be used with other models as well."
   ]
  },
  {
   "cell_type": "markdown",
   "id": "8e58cab4",
   "metadata": {},
   "source": [
    "#### Q10. Make a comparison between:\n",
    "1. Sequential backward exclusion vs. sequential forward selection\n",
    "2. Function selection methods: filter vs. wrapper\n",
    "3. SMC vs. Jaccard coefficient"
   ]
  },
  {
   "cell_type": "markdown",
   "id": "00a7ac4c",
   "metadata": {},
   "source": [
    "**Ans**: \n",
    "1. Sequential backward elimination is a method that starts with a full set of features and removes the least significant feature at each iteration until a subset of features remain that achieve the desired level of performance.\n",
    "\n",
    "Sequential forward selection, on the other hand, starts with an empty set of features and adds the most significant feature at each iteration until a subset of features remain that achieve the desired level of performance.\n",
    "\n",
    "2. Filter approach uses statistical measures to evaluate the relevance of each feature and retain those that pass a certain threshold, while wrapper approach uses a predictive model to evaluate the feature subset, repeatedly selecting and training subsets to choose the best one based on performance. Filter approach is simple and fast, but may not consider feature relationships, while wrapper approach considers relationships but is computationally expensive and may lead to overfitting.\n",
    "\n",
    "3. In summary, SMC measure the similarity of missing values between features and Jaccard coefficient measures similarity between two sets of binary data."
   ]
  },
  {
   "cell_type": "code",
   "execution_count": null,
   "id": "7861a1cb",
   "metadata": {},
   "outputs": [],
   "source": []
  }
 ],
 "metadata": {
  "kernelspec": {
   "display_name": "Python 3 (ipykernel)",
   "language": "python",
   "name": "python3"
  },
  "language_info": {
   "codemirror_mode": {
    "name": "ipython",
    "version": 3
   },
   "file_extension": ".py",
   "mimetype": "text/x-python",
   "name": "python",
   "nbconvert_exporter": "python",
   "pygments_lexer": "ipython3",
   "version": "3.9.12"
  }
 },
 "nbformat": 4,
 "nbformat_minor": 5
}
