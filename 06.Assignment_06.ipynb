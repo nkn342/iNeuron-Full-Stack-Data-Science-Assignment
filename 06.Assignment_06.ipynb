{
 "cells": [
  {
   "cell_type": "markdown",
   "id": "0f5b215e",
   "metadata": {},
   "source": [
    "# Assignment 6 Solutions"
   ]
  },
  {
   "cell_type": "markdown",
   "id": "4e090a87",
   "metadata": {},
   "source": [
    "#### 1.What are Escape characters ? and how do you use them ?"
   ]
  },
  {
   "cell_type": "markdown",
   "id": "9dc7b047",
   "metadata": {},
   "source": [
    "**Ans**: Escape characters represent characters in string values that would otherwise be difficult or impossible to type into code. we can use the backslash character to escape a single character or symbol .  \n",
    "**example:** `\\t, \\n`"
   ]
  },
  {
   "cell_type": "markdown",
   "id": "4c3d02dd",
   "metadata": {},
   "source": [
    "#### 2.What do the escape characters n and t stand for ?"
   ]
  },
  {
   "cell_type": "markdown",
   "id": "109b0649",
   "metadata": {},
   "source": [
    "**Ans:** `\\n` is a newline, `\\t` is a tab."
   ]
  },
  {
   "cell_type": "markdown",
   "id": "9e0647dc",
   "metadata": {},
   "source": [
    "#### 3.What is the way to include backslash character in a string?\n"
   ]
  },
  {
   "cell_type": "markdown",
   "id": "57c7b39f",
   "metadata": {},
   "source": [
    "**Ans:** The `\\\\` escape character will represent the backslash character in a string"
   ]
  },
  {
   "cell_type": "markdown",
   "id": "a065c1f3",
   "metadata": {},
   "source": [
    "#### 4.The string \"Howl's Moving Castle\" is a correct value. Why isn't the single quote character in the word Howl's not escaped a problem ?"
   ]
  },
  {
   "cell_type": "markdown",
   "id": "27983ad4",
   "metadata": {},
   "source": [
    "**Ans**: The string `\"Howl's Moving Castle\"` escaped the problem because it is wrapped inside double quotes. if its wrapped inside single quotes then we have to use escape character `\\'` to show single quote in the final output\n",
    "`'Howl\\'s Moving Castle' -> 'Howl's Moving Castle'`"
   ]
  },
  {
   "cell_type": "markdown",
   "id": "3839d7e8",
   "metadata": {},
   "source": [
    "#### 5.How do you write a string of newlines if you don't want to use the n character?"
   ]
  },
  {
   "cell_type": "markdown",
   "id": "6e9a07ec",
   "metadata": {},
   "source": [
    "**Ans**: Multiline string allow you to use newlines in string without the \\n escape character"
   ]
  },
  {
   "cell_type": "code",
   "execution_count": 2,
   "id": "58972c08",
   "metadata": {},
   "outputs": [
    {
     "name": "stdout",
     "output_type": "stream",
     "text": [
      "iNeuron full stack\n",
      "Data Science Course\n"
     ]
    }
   ],
   "source": [
    "# Example:\n",
    "a = '''iNeuron full stack\n",
    "Data Science Course'''\n",
    "print(a)"
   ]
  },
  {
   "cell_type": "markdown",
   "id": "7f075b96",
   "metadata": {},
   "source": [
    "#### 6.What are the values of the given expressions ?  \n",
    "'Hello, world!'[1]  \n",
    "'Hello, world!'[0:5]  \n",
    "'Hello, world!'[:5]  \n",
    "'Hello, world!'[3:]  "
   ]
  },
  {
   "cell_type": "markdown",
   "id": "0db383c2",
   "metadata": {},
   "source": [
    "**Ans:** The values for the given expressions are:  \n",
    "'Hello, world!'[1] `->` `'e'`  \n",
    "'Hello, world!'[0:5] `->` `'Hello'`  \n",
    "'Hello, world!'[:5] `->` `'Hello'`  \n",
    "'Hello, world!'[3:] `->` `'lo, world!'`  "
   ]
  },
  {
   "cell_type": "markdown",
   "id": "6f14070c",
   "metadata": {},
   "source": [
    "#### 7.What are the values of the following expressions ?  \n",
    "'Hello'.upper()  \n",
    "'Hello'.upper().isupper()  \n",
    "'Hello'.upper().lower()  "
   ]
  },
  {
   "cell_type": "markdown",
   "id": "623d5c5d",
   "metadata": {},
   "source": [
    "**Ans**: The values for the given expressions are:  \n",
    "'Hello'.upper() `->` `'HELLO'`  \n",
    "'Hello'.upper().isupper() `->` `True`  \n",
    "'Hello'.upper().lower() `->` `'hello'`"
   ]
  },
  {
   "cell_type": "markdown",
   "id": "8bc232df",
   "metadata": {},
   "source": [
    "#### 8.What are the values of the following expressions ?  \n",
    "'Remember, remember, the fifith of July.'.split()  \n",
    "'-'.join('There can only one'.split())"
   ]
  },
  {
   "cell_type": "markdown",
   "id": "358f0808",
   "metadata": {},
   "source": [
    "**Ans**: The values for the given expressions are:  \n",
    "'Remember, remember, the fifith of July.'.split() `->` `['Remember,', 'remember,', 'the', 'fifith', 'of', 'July.']`  \n",
    "'-'.join('There can only one'.split()) `->` `'There-can-only-one'`"
   ]
  },
  {
   "cell_type": "markdown",
   "id": "df8960e7",
   "metadata": {},
   "source": [
    "#### 9.What are the methods for right-justifying, left-justifying and centering a string ?"
   ]
  },
  {
   "cell_type": "markdown",
   "id": "55707afb",
   "metadata": {},
   "source": [
    "**Ans**: The `rjust()`,`ljust()`,`center()` string methods, respectively ."
   ]
  },
  {
   "cell_type": "markdown",
   "id": "8c92dbb3",
   "metadata": {},
   "source": [
    "#### 10.What is the best way to remove whitespace characters from the start or end ?"
   ]
  },
  {
   "cell_type": "markdown",
   "id": "fd2729f6",
   "metadata": {},
   "source": [
    "**Ans**: The `lstrip()` and `rstrip()` methods remove whitesapce characters from the left and right ends of a string respectively ."
   ]
  },
  {
   "cell_type": "code",
   "execution_count": null,
   "id": "21f768b8",
   "metadata": {},
   "outputs": [],
   "source": []
  }
 ],
 "metadata": {
  "kernelspec": {
   "display_name": "Python 3 (ipykernel)",
   "language": "python",
   "name": "python3"
  },
  "language_info": {
   "codemirror_mode": {
    "name": "ipython",
    "version": 3
   },
   "file_extension": ".py",
   "mimetype": "text/x-python",
   "name": "python",
   "nbconvert_exporter": "python",
   "pygments_lexer": "ipython3",
   "version": "3.9.12"
  }
 },
 "nbformat": 4,
 "nbformat_minor": 5
}
